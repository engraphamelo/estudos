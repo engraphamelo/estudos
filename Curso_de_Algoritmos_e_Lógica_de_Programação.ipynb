{
  "nbformat": 4,
  "nbformat_minor": 0,
  "metadata": {
    "colab": {
      "provenance": []
    },
    "kernelspec": {
      "name": "python3",
      "display_name": "Python 3"
    },
    "language_info": {
      "name": "python"
    }
  },
  "cells": [
    {
      "cell_type": "markdown",
      "source": [
        "#Bem-vindos ao curso de Algoritmos e Lógica de Programação com Python"
      ],
      "metadata": {
        "id": "0xKHgbA5YxIO"
      }
    },
    {
      "cell_type": "markdown",
      "source": [
        "##Variáveis: declaração e seus tipos"
      ],
      "metadata": {
        "id": "yA_nZZLOZEiT"
      }
    },
    {
      "cell_type": "code",
      "execution_count": null,
      "metadata": {
        "colab": {
          "base_uri": "https://localhost:8080/",
          "height": 174
        },
        "id": "Z7Bh2qDNYsb1",
        "outputId": "5b629828-3d77-4978-deb7-4f3530eb94ed"
      },
      "outputs": [
        {
          "output_type": "error",
          "ename": "NameError",
          "evalue": "ignored",
          "traceback": [
            "\u001b[0;31m---------------------------------------------------------------------------\u001b[0m",
            "\u001b[0;31mNameError\u001b[0m                                 Traceback (most recent call last)",
            "\u001b[0;32m<ipython-input-1-6fcf9dfbd479>\u001b[0m in \u001b[0;36m<cell line: 1>\u001b[0;34m()\u001b[0m\n\u001b[0;32m----> 1\u001b[0;31m \u001b[0mx\u001b[0m\u001b[0;34m\u001b[0m\u001b[0;34m\u001b[0m\u001b[0m\n\u001b[0m",
            "\u001b[0;31mNameError\u001b[0m: name 'x' is not defined"
          ]
        }
      ],
      "source": [
        "x"
      ]
    },
    {
      "cell_type": "code",
      "source": [
        "x=a"
      ],
      "metadata": {
        "id": "udFQBH6xY4zY",
        "colab": {
          "base_uri": "https://localhost:8080/",
          "height": 174
        },
        "outputId": "92eb0bbc-4d90-4d77-ddcf-2991f2e894f3"
      },
      "execution_count": null,
      "outputs": [
        {
          "output_type": "error",
          "ename": "NameError",
          "evalue": "ignored",
          "traceback": [
            "\u001b[0;31m---------------------------------------------------------------------------\u001b[0m",
            "\u001b[0;31mNameError\u001b[0m                                 Traceback (most recent call last)",
            "\u001b[0;32m<ipython-input-2-b1ca8fa0534f>\u001b[0m in \u001b[0;36m<cell line: 1>\u001b[0;34m()\u001b[0m\n\u001b[0;32m----> 1\u001b[0;31m \u001b[0mx\u001b[0m\u001b[0;34m=\u001b[0m\u001b[0ma\u001b[0m\u001b[0;34m\u001b[0m\u001b[0;34m\u001b[0m\u001b[0m\n\u001b[0m",
            "\u001b[0;31mNameError\u001b[0m: name 'a' is not defined"
          ]
        }
      ]
    },
    {
      "cell_type": "code",
      "source": [
        "x='a'"
      ],
      "metadata": {
        "id": "niQAbJb5ZQt-"
      },
      "execution_count": null,
      "outputs": []
    },
    {
      "cell_type": "code",
      "source": [
        "type(x)"
      ],
      "metadata": {
        "colab": {
          "base_uri": "https://localhost:8080/"
        },
        "id": "owBrtoJpZW_v",
        "outputId": "45b5f7e2-d6ca-478a-a657-204d2170c28d"
      },
      "execution_count": null,
      "outputs": [
        {
          "output_type": "execute_result",
          "data": {
            "text/plain": [
              "str"
            ]
          },
          "metadata": {},
          "execution_count": 4
        }
      ]
    },
    {
      "cell_type": "code",
      "source": [
        "y=10"
      ],
      "metadata": {
        "id": "nfxdNGNFZYiA"
      },
      "execution_count": null,
      "outputs": []
    },
    {
      "cell_type": "code",
      "source": [
        "type(y)"
      ],
      "metadata": {
        "colab": {
          "base_uri": "https://localhost:8080/"
        },
        "id": "EaDlHGtNZaMk",
        "outputId": "2f1549cb-6b2f-4064-dcad-3b4c128aab28"
      },
      "execution_count": null,
      "outputs": [
        {
          "output_type": "execute_result",
          "data": {
            "text/plain": [
              "int"
            ]
          },
          "metadata": {},
          "execution_count": 6
        }
      ]
    },
    {
      "cell_type": "code",
      "source": [
        "z=y*x\n",
        "print(z)"
      ],
      "metadata": {
        "colab": {
          "base_uri": "https://localhost:8080/"
        },
        "id": "JPBL3s70aeFY",
        "outputId": "f16f0faa-201f-41dc-809c-d9ee98928650"
      },
      "execution_count": null,
      "outputs": [
        {
          "output_type": "stream",
          "name": "stdout",
          "text": [
            "aaaaaaaaaa\n"
          ]
        }
      ]
    },
    {
      "cell_type": "code",
      "source": [
        "type(z)"
      ],
      "metadata": {
        "colab": {
          "base_uri": "https://localhost:8080/"
        },
        "id": "1SwkSqjZGG1S",
        "outputId": "d62defe4-0273-4736-cc1a-eae0462ec3b6"
      },
      "execution_count": null,
      "outputs": [
        {
          "output_type": "execute_result",
          "data": {
            "text/plain": [
              "str"
            ]
          },
          "metadata": {},
          "execution_count": 8
        }
      ]
    },
    {
      "cell_type": "code",
      "source": [
        "w=10.0"
      ],
      "metadata": {
        "id": "yhb67yPLZbTu"
      },
      "execution_count": null,
      "outputs": []
    },
    {
      "cell_type": "code",
      "source": [
        "type(w)"
      ],
      "metadata": {
        "colab": {
          "base_uri": "https://localhost:8080/"
        },
        "id": "DJc2GCSaZcr4",
        "outputId": "97aa02a3-80ff-4189-91c7-6512ec774386"
      },
      "execution_count": null,
      "outputs": [
        {
          "output_type": "execute_result",
          "data": {
            "text/plain": [
              "float"
            ]
          },
          "metadata": {},
          "execution_count": 10
        }
      ]
    },
    {
      "cell_type": "code",
      "source": [
        "r='10.0'\n",
        "type(r)"
      ],
      "metadata": {
        "colab": {
          "base_uri": "https://localhost:8080/"
        },
        "id": "75BNS-BlHEYC",
        "outputId": "4b9f6d9b-34d4-4233-ceed-f5fbd3f95e5e"
      },
      "execution_count": null,
      "outputs": [
        {
          "output_type": "execute_result",
          "data": {
            "text/plain": [
              "str"
            ]
          },
          "metadata": {},
          "execution_count": 17
        }
      ]
    },
    {
      "cell_type": "code",
      "source": [
        "w==r"
      ],
      "metadata": {
        "colab": {
          "base_uri": "https://localhost:8080/"
        },
        "id": "moxYcNmWHH0p",
        "outputId": "faa6eef0-58c6-4b95-a7af-65e1b1439143"
      },
      "execution_count": null,
      "outputs": [
        {
          "output_type": "execute_result",
          "data": {
            "text/plain": [
              "False"
            ]
          },
          "metadata": {},
          "execution_count": 12
        }
      ]
    },
    {
      "cell_type": "code",
      "source": [
        "a=10 #Aqui atribuo que a variavel a vale 10 unidades inteiras\n",
        "b=10 #Aqui atribuo que a variavel b vale 10 unidades inteiras\n",
        "\n",
        "c=a==b #A variavel c armazena o resultado do teste se a eh igual a b\n",
        "print(c) #Chama a funcao print para apresentar o resultado do teste de c\n",
        "type(c) #Chama a funcao para apresentar o tipo da variavel c"
      ],
      "metadata": {
        "colab": {
          "base_uri": "https://localhost:8080/"
        },
        "id": "Xv3uG7PAZdl9",
        "outputId": "241b6258-1e23-449e-d9c4-0a8816dd5666"
      },
      "execution_count": null,
      "outputs": [
        {
          "output_type": "stream",
          "name": "stdout",
          "text": [
            "True\n"
          ]
        },
        {
          "output_type": "execute_result",
          "data": {
            "text/plain": [
              "bool"
            ]
          },
          "metadata": {},
          "execution_count": 19
        }
      ]
    },
    {
      "cell_type": "code",
      "source": [
        "c=a!=b #A variavel c armazena o resultado do teste se a eh diferente de b\n",
        "print(c)\n",
        "type(c)"
      ],
      "metadata": {
        "colab": {
          "base_uri": "https://localhost:8080/"
        },
        "id": "z1I_dWz8aAcK",
        "outputId": "890c37d6-9503-40bf-a6b6-e583ca5aad06"
      },
      "execution_count": null,
      "outputs": [
        {
          "output_type": "stream",
          "name": "stdout",
          "text": [
            "False\n"
          ]
        },
        {
          "output_type": "execute_result",
          "data": {
            "text/plain": [
              "bool"
            ]
          },
          "metadata": {},
          "execution_count": 20
        }
      ]
    },
    {
      "cell_type": "code",
      "source": [
        "a=(1,2,3,4,5,6)\n",
        "print(a)"
      ],
      "metadata": {
        "id": "mCnEltQFZlvw",
        "colab": {
          "base_uri": "https://localhost:8080/"
        },
        "outputId": "642f5dab-4578-4b88-b458-3db21f8bc1c7"
      },
      "execution_count": null,
      "outputs": [
        {
          "output_type": "stream",
          "name": "stdout",
          "text": [
            "(1, 2, 3, 4, 5, 6)\n"
          ]
        }
      ]
    },
    {
      "cell_type": "code",
      "source": [
        "type(a)"
      ],
      "metadata": {
        "colab": {
          "base_uri": "https://localhost:8080/"
        },
        "id": "251Dua2kZuro",
        "outputId": "6d025f23-a223-4a2d-cba6-b5eabe13b7ba"
      },
      "execution_count": null,
      "outputs": [
        {
          "output_type": "execute_result",
          "data": {
            "text/plain": [
              "tuple"
            ]
          },
          "metadata": {},
          "execution_count": 24
        }
      ]
    },
    {
      "cell_type": "code",
      "source": [
        "a.sort()"
      ],
      "metadata": {
        "colab": {
          "base_uri": "https://localhost:8080/",
          "height": 174
        },
        "id": "fgkuRIuxaw32",
        "outputId": "ead9cb78-babb-4f5a-f161-d6ff8cb1781b"
      },
      "execution_count": null,
      "outputs": [
        {
          "output_type": "error",
          "ename": "AttributeError",
          "evalue": "ignored",
          "traceback": [
            "\u001b[0;31m---------------------------------------------------------------------------\u001b[0m",
            "\u001b[0;31mAttributeError\u001b[0m                            Traceback (most recent call last)",
            "\u001b[0;32m<ipython-input-25-2ed0d7de6146>\u001b[0m in \u001b[0;36m<cell line: 1>\u001b[0;34m()\u001b[0m\n\u001b[0;32m----> 1\u001b[0;31m \u001b[0ma\u001b[0m\u001b[0;34m.\u001b[0m\u001b[0msort\u001b[0m\u001b[0;34m(\u001b[0m\u001b[0;34m)\u001b[0m\u001b[0;34m\u001b[0m\u001b[0;34m\u001b[0m\u001b[0m\n\u001b[0m",
            "\u001b[0;31mAttributeError\u001b[0m: 'tuple' object has no attribute 'sort'"
          ]
        }
      ]
    },
    {
      "cell_type": "code",
      "source": [
        "a=[1,2,3,4,5,6]"
      ],
      "metadata": {
        "id": "Y8g6hhZkZv1N"
      },
      "execution_count": null,
      "outputs": []
    },
    {
      "cell_type": "code",
      "source": [
        "type(a)"
      ],
      "metadata": {
        "colab": {
          "base_uri": "https://localhost:8080/"
        },
        "id": "i9sQ0Q_aZzjy",
        "outputId": "e6088f2e-4bba-4392-bb21-63b6f3a23d61"
      },
      "execution_count": null,
      "outputs": [
        {
          "output_type": "execute_result",
          "data": {
            "text/plain": [
              "list"
            ]
          },
          "metadata": {},
          "execution_count": 27
        }
      ]
    },
    {
      "cell_type": "code",
      "source": [
        "a.sort(reverse=True)\n",
        "a"
      ],
      "metadata": {
        "colab": {
          "base_uri": "https://localhost:8080/"
        },
        "id": "AmLE8M8sZ0a5",
        "outputId": "d3ca04bc-673d-4de0-c610-0ee7b63482f3"
      },
      "execution_count": null,
      "outputs": [
        {
          "output_type": "execute_result",
          "data": {
            "text/plain": [
              "[6, 5, 4, 3, 2, 1]"
            ]
          },
          "metadata": {},
          "execution_count": 28
        }
      ]
    },
    {
      "cell_type": "code",
      "source": [
        "\"\"\"Vamos escrever um programa\n",
        "que pergunte o nome e o endereço de\n",
        "e-mail\"\"\"\n",
        "#print(\"Informe seu nome\")\n",
        "x=input('Informe seu primeiro nome: ')\n",
        "y=input('Informe seu e-mail: ')\n",
        "print('O e-mail de ' + x + ' é ' + y)\n"
      ],
      "metadata": {
        "id": "LDikWlPna2E5",
        "colab": {
          "base_uri": "https://localhost:8080/"
        },
        "outputId": "c291dd78-1088-43d1-c07c-32244268c91e"
      },
      "execution_count": null,
      "outputs": [
        {
          "output_type": "stream",
          "name": "stdout",
          "text": [
            "Informe seu primeiro nome: Raphael\n",
            "Informe seu e-mail: raphael@raphael.com\n",
            "O e-mail de Raphael é raphael@raphael.com\n"
          ]
        }
      ]
    },
    {
      "cell_type": "code",
      "source": [
        "x=input('Informe seu primeiro nome: ')\n",
        "y=input('Informe seu e-mail: ')\n",
        "print('O e-mail de {} é {}'.format(x,y))"
      ],
      "metadata": {
        "colab": {
          "base_uri": "https://localhost:8080/"
        },
        "id": "V-7zaXlKMeTH",
        "outputId": "ec082bd5-9e48-4cd5-897e-6fc888fa17f4"
      },
      "execution_count": null,
      "outputs": [
        {
          "output_type": "stream",
          "name": "stdout",
          "text": [
            "Informe seu primeiro nome: Raphael\n",
            "Informe seu e-mail: raphael@raphael.com\n",
            "O e-mail de Raphael é raphael@raphael.com\n"
          ]
        }
      ]
    },
    {
      "cell_type": "markdown",
      "source": [
        "## Coleções - listas"
      ],
      "metadata": {
        "id": "NEdCLizSwBIQ"
      }
    },
    {
      "cell_type": "code",
      "source": [
        "#Vamos criar uma lista\n",
        "frutas_prediletas=['banana','laranja','maçã','uva','pera','mamão']"
      ],
      "metadata": {
        "id": "d4WsSKIdMlHW"
      },
      "execution_count": null,
      "outputs": []
    },
    {
      "cell_type": "code",
      "source": [
        "type(frutas_prediletas)"
      ],
      "metadata": {
        "colab": {
          "base_uri": "https://localhost:8080/"
        },
        "id": "mi4WAo-UYVqu",
        "outputId": "e951151c-4713-430a-ac71-051568b174e0"
      },
      "execution_count": null,
      "outputs": [
        {
          "output_type": "execute_result",
          "data": {
            "text/plain": [
              "list"
            ]
          },
          "metadata": {},
          "execution_count": 51
        }
      ]
    },
    {
      "cell_type": "code",
      "source": [
        "print(frutas_prediletas)"
      ],
      "metadata": {
        "colab": {
          "base_uri": "https://localhost:8080/"
        },
        "id": "KcZsuQWOwEHg",
        "outputId": "3078b38b-d1b7-4af8-8610-a2c8611e1224"
      },
      "execution_count": null,
      "outputs": [
        {
          "output_type": "stream",
          "name": "stdout",
          "text": [
            "['banana', 'laranja', 'maçã', 'uva', 'pera', 'mamão']\n"
          ]
        }
      ]
    },
    {
      "cell_type": "code",
      "source": [
        "print(frutas_prediletas[1:]) #aqui fizemos um print de parte da lista"
      ],
      "metadata": {
        "colab": {
          "base_uri": "https://localhost:8080/"
        },
        "id": "Zop1CwdfwcRM",
        "outputId": "07385095-862b-47f2-e734-7ef68366aca9"
      },
      "execution_count": null,
      "outputs": [
        {
          "output_type": "stream",
          "name": "stdout",
          "text": [
            "['laranja', 'maçã', 'uva', 'pera', 'mamão']\n"
          ]
        }
      ]
    },
    {
      "cell_type": "code",
      "source": [
        "frutas_prediletas[4]='melão' #aqui fizemos uma substituição de um item na lista\n",
        "print(frutas_prediletas)"
      ],
      "metadata": {
        "colab": {
          "base_uri": "https://localhost:8080/"
        },
        "id": "WQl3_AE1wiWc",
        "outputId": "1ccfe5e1-8386-4462-b3b1-70f80cb0b1be"
      },
      "execution_count": null,
      "outputs": [
        {
          "output_type": "stream",
          "name": "stdout",
          "text": [
            "['banana', 'laranja', 'maçã', 'uva', 'melão', 'mamão']\n"
          ]
        }
      ]
    },
    {
      "cell_type": "code",
      "source": [
        "frutas_prediletas.insert(5,'laranja') #adiciona um novo item a lista, mas é preciso informar o argumento\n",
        "print(frutas_prediletas)"
      ],
      "metadata": {
        "colab": {
          "base_uri": "https://localhost:8080/"
        },
        "id": "qha0HmWGw7Kx",
        "outputId": "46fbda86-a7df-4ec7-aaaa-a7f7aa07104e"
      },
      "execution_count": null,
      "outputs": [
        {
          "output_type": "stream",
          "name": "stdout",
          "text": [
            "['banana', 'laranja', 'maçã', 'uva', 'melão', 'laranja', 'mamão']\n"
          ]
        }
      ]
    },
    {
      "cell_type": "code",
      "source": [
        "frutas_prediletas.append('caju') #adiciona um item a lista na última posição\n",
        "print(frutas_prediletas)"
      ],
      "metadata": {
        "colab": {
          "base_uri": "https://localhost:8080/"
        },
        "id": "hCFJ57JdxOj5",
        "outputId": "75148749-f28c-4496-bf7c-3f3d9f6d7fef"
      },
      "execution_count": null,
      "outputs": [
        {
          "output_type": "stream",
          "name": "stdout",
          "text": [
            "['banana', 'laranja', 'maçã', 'uva', 'melão', 'laranja', 'mamão', 'caju']\n"
          ]
        }
      ]
    },
    {
      "cell_type": "code",
      "source": [
        "frutas_prediletas.append(['acerola','umbu','melancia','graviola']) #aqui adicionamos vários itens de uma única vez\n",
        "print(frutas_prediletas)"
      ],
      "metadata": {
        "colab": {
          "base_uri": "https://localhost:8080/"
        },
        "id": "NzWkt2-UxfU1",
        "outputId": "d86aac6b-dedd-4d87-e522-d1685e7bdeb6"
      },
      "execution_count": null,
      "outputs": [
        {
          "output_type": "stream",
          "name": "stdout",
          "text": [
            "['banana', 'laranja', 'maçã', 'uva', 'melão', 'laranja', 'mamão', 'caju', ['acerola', 'umbu', 'melancia', 'graviola']]\n"
          ]
        }
      ]
    },
    {
      "cell_type": "code",
      "source": [
        "frutas_prediletas[8].count('acerola')"
      ],
      "metadata": {
        "colab": {
          "base_uri": "https://localhost:8080/"
        },
        "id": "lwVCMWlca8p9",
        "outputId": "941fb1e8-566c-45bb-e801-bcc120047985"
      },
      "execution_count": null,
      "outputs": [
        {
          "output_type": "execute_result",
          "data": {
            "text/plain": [
              "1"
            ]
          },
          "metadata": {},
          "execution_count": 66
        }
      ]
    },
    {
      "cell_type": "code",
      "source": [
        "frutas_prediletas[8] #printa toda a lista"
      ],
      "metadata": {
        "colab": {
          "base_uri": "https://localhost:8080/"
        },
        "id": "BD0kPPoMx1XW",
        "outputId": "323f5946-6d41-4ac1-8622-2db4c03dfe81"
      },
      "execution_count": null,
      "outputs": [
        {
          "output_type": "execute_result",
          "data": {
            "text/plain": [
              "['acerola', 'umbu', 'melancia', 'graviola']"
            ]
          },
          "metadata": {},
          "execution_count": 60
        }
      ]
    },
    {
      "cell_type": "code",
      "source": [
        "frutas_prediletas[8][2] #acessa o diretorio da lista e apresenta apenas o item no argumento de posição 0"
      ],
      "metadata": {
        "colab": {
          "base_uri": "https://localhost:8080/",
          "height": 35
        },
        "id": "U0vgtPTMyEuj",
        "outputId": "259a7f5d-dda0-4bd5-9626-c8273d647d6b"
      },
      "execution_count": null,
      "outputs": [
        {
          "output_type": "execute_result",
          "data": {
            "text/plain": [
              "'melancia'"
            ],
            "application/vnd.google.colaboratory.intrinsic+json": {
              "type": "string"
            }
          },
          "metadata": {},
          "execution_count": 64
        }
      ]
    },
    {
      "cell_type": "code",
      "source": [
        "frutas_exoticas=['mirtilo','pitaya','lixia','jambo']"
      ],
      "metadata": {
        "id": "b7eEhwiNyLAM"
      },
      "execution_count": null,
      "outputs": []
    },
    {
      "cell_type": "code",
      "source": [
        "frutas_prediletas.extend(frutas_exoticas)\n",
        "frutas_prediletas"
      ],
      "metadata": {
        "colab": {
          "base_uri": "https://localhost:8080/"
        },
        "id": "pani-8-ty2qx",
        "outputId": "394cbf48-9681-4a78-c3a9-50c832a3d09d"
      },
      "execution_count": null,
      "outputs": [
        {
          "output_type": "execute_result",
          "data": {
            "text/plain": [
              "['banana',\n",
              " 'laranja',\n",
              " 'maçã',\n",
              " 'uva',\n",
              " 'melão',\n",
              " 'laranja',\n",
              " 'mamão',\n",
              " 'caju',\n",
              " ['acerola', 'umbu', 'melancia', 'graviola'],\n",
              " 'mirtilo',\n",
              " 'pitaya',\n",
              " 'lixia',\n",
              " 'jambo']"
            ]
          },
          "metadata": {},
          "execution_count": 68
        }
      ]
    },
    {
      "cell_type": "code",
      "source": [
        "frutas_prediletas.remove('mirtilo') #removendo um item específico\n",
        "frutas_prediletas"
      ],
      "metadata": {
        "colab": {
          "base_uri": "https://localhost:8080/",
          "height": 191
        },
        "id": "nTXDO9Spy9uk",
        "outputId": "6a01589b-9b39-4da7-cf00-484a09e5bbc6"
      },
      "execution_count": null,
      "outputs": [
        {
          "output_type": "error",
          "ename": "ValueError",
          "evalue": "ignored",
          "traceback": [
            "\u001b[0;31m---------------------------------------------------------------------------\u001b[0m",
            "\u001b[0;31mValueError\u001b[0m                                Traceback (most recent call last)",
            "\u001b[0;32m<ipython-input-72-f606a67e40b9>\u001b[0m in \u001b[0;36m<cell line: 1>\u001b[0;34m()\u001b[0m\n\u001b[0;32m----> 1\u001b[0;31m \u001b[0mfrutas_prediletas\u001b[0m\u001b[0;34m.\u001b[0m\u001b[0mremove\u001b[0m\u001b[0;34m(\u001b[0m\u001b[0;34m'mirtilo'\u001b[0m\u001b[0;34m)\u001b[0m \u001b[0;31m#removendo um item específico\u001b[0m\u001b[0;34m\u001b[0m\u001b[0;34m\u001b[0m\u001b[0m\n\u001b[0m\u001b[1;32m      2\u001b[0m \u001b[0mfrutas_prediletas\u001b[0m\u001b[0;34m\u001b[0m\u001b[0;34m\u001b[0m\u001b[0m\n",
            "\u001b[0;31mValueError\u001b[0m: list.remove(x): x not in list"
          ]
        }
      ]
    },
    {
      "cell_type": "code",
      "source": [
        "frutas_prediletas.pop(1) #remove o item na posição 0 da lista, neste caso a banana.\n",
        "frutas_prediletas"
      ],
      "metadata": {
        "colab": {
          "base_uri": "https://localhost:8080/"
        },
        "id": "ZL3uWSHF0mVl",
        "outputId": "b4e74264-9386-4345-eb53-3a143f5ef4c2"
      },
      "execution_count": null,
      "outputs": [
        {
          "output_type": "execute_result",
          "data": {
            "text/plain": [
              "['banana',\n",
              " 'maçã',\n",
              " 'uva',\n",
              " 'melão',\n",
              " 'laranja',\n",
              " 'mamão',\n",
              " 'caju',\n",
              " ['acerola', 'umbu', 'melancia', 'graviola'],\n",
              " 'pitaya',\n",
              " 'lixia',\n",
              " 'jambo']"
            ]
          },
          "metadata": {},
          "execution_count": 73
        }
      ]
    },
    {
      "cell_type": "code",
      "source": [
        "del frutas_prediletas[3] #exclui o item da posição 9 da lista\n",
        "frutas_prediletas"
      ],
      "metadata": {
        "colab": {
          "base_uri": "https://localhost:8080/"
        },
        "id": "9FPQ_pJD1CMV",
        "outputId": "4c5d6577-e9b4-4093-926e-c2048f648856"
      },
      "execution_count": null,
      "outputs": [
        {
          "output_type": "execute_result",
          "data": {
            "text/plain": [
              "['banana',\n",
              " 'maçã',\n",
              " 'uva',\n",
              " 'laranja',\n",
              " 'mamão',\n",
              " 'caju',\n",
              " ['acerola', 'umbu', 'melancia', 'graviola'],\n",
              " 'pitaya',\n",
              " 'lixia',\n",
              " 'jambo']"
            ]
          },
          "metadata": {},
          "execution_count": 74
        }
      ]
    },
    {
      "cell_type": "code",
      "source": [
        "frutas_prediletas.clear()\n",
        "frutas_prediletas"
      ],
      "metadata": {
        "colab": {
          "base_uri": "https://localhost:8080/"
        },
        "id": "E-6QOkue1NDt",
        "outputId": "874e5d4f-9bb4-411d-eafd-d10b43a07dae"
      },
      "execution_count": null,
      "outputs": [
        {
          "output_type": "execute_result",
          "data": {
            "text/plain": [
              "[]"
            ]
          },
          "metadata": {},
          "execution_count": 75
        }
      ]
    },
    {
      "cell_type": "code",
      "source": [
        "frutas_prediletas=['banana','laranja','maçã','uva','pera','mamão'] #criando novamente a lista\n",
        "len(frutas_prediletas) #método que diz quantos itens existem na lista"
      ],
      "metadata": {
        "colab": {
          "base_uri": "https://localhost:8080/"
        },
        "id": "Hl2D0Dsk1ZNw",
        "outputId": "54ef016c-ac45-472a-ba41-c773a49fa3b5"
      },
      "execution_count": null,
      "outputs": [
        {
          "output_type": "execute_result",
          "data": {
            "text/plain": [
              "6"
            ]
          },
          "metadata": {},
          "execution_count": 76
        }
      ]
    },
    {
      "cell_type": "code",
      "source": [
        "frutas_prediletas.sort() #ordena a lista de maneira alfabética\n",
        "frutas_prediletas"
      ],
      "metadata": {
        "colab": {
          "base_uri": "https://localhost:8080/"
        },
        "id": "x4y4ly9W1lgj",
        "outputId": "7184b83c-cf2d-47e3-833d-42d41852a00f"
      },
      "execution_count": null,
      "outputs": [
        {
          "output_type": "execute_result",
          "data": {
            "text/plain": [
              "['banana', 'laranja', 'mamão', 'maçã', 'pera', 'uva']"
            ]
          },
          "metadata": {},
          "execution_count": 77
        }
      ]
    },
    {
      "cell_type": "code",
      "source": [
        "frutas_prediletas.sort(reverse = True) #ordena a lista de maneira reversa\n",
        "frutas_prediletas"
      ],
      "metadata": {
        "colab": {
          "base_uri": "https://localhost:8080/"
        },
        "id": "bV3pKCso2GKh",
        "outputId": "ebc32265-9c2d-43ce-c1fe-cd9f58a49318"
      },
      "execution_count": null,
      "outputs": [
        {
          "output_type": "execute_result",
          "data": {
            "text/plain": [
              "['uva', 'pera', 'maçã', 'mamão', 'laranja', 'banana']"
            ]
          },
          "metadata": {},
          "execution_count": 78
        }
      ]
    },
    {
      "cell_type": "code",
      "source": [
        "frutas_prediletas.reverse() #ordena a lista de maneira reversa\n",
        "frutas_prediletas"
      ],
      "metadata": {
        "colab": {
          "base_uri": "https://localhost:8080/"
        },
        "id": "JSk8NAXw2TAd",
        "outputId": "53d0a4f8-a01d-4f7c-8d82-b3bbe00a16aa"
      },
      "execution_count": null,
      "outputs": [
        {
          "output_type": "execute_result",
          "data": {
            "text/plain": [
              "['banana', 'laranja', 'mamão', 'maçã', 'pera', 'uva']"
            ]
          },
          "metadata": {},
          "execution_count": 79
        }
      ]
    },
    {
      "cell_type": "code",
      "source": [
        "frutas_maiusculas=['Limão','Laranja','Pera','Maçã','Caju']\n",
        "frutas_prediletas.extend(frutas_maiusculas)\n",
        "print(frutas_prediletas) #apresenta a lista extendida\n",
        "frutas_prediletas.sort()\n",
        "print(frutas_prediletas) #apresenta a lista de maneira ordenada, mas as palavras começando com maiúsculas aparecem no começo da lista\n",
        "frutas_prediletas.sort(key=str.lower)\n",
        "print(frutas_prediletas) #aqui apresenta em ordem alfabética, pois aplicamos o método lower"
      ],
      "metadata": {
        "colab": {
          "base_uri": "https://localhost:8080/"
        },
        "id": "LK8Fzgbo2mOg",
        "outputId": "bc226da8-c007-4b50-f0a3-800c798bbde3"
      },
      "execution_count": null,
      "outputs": [
        {
          "output_type": "stream",
          "name": "stdout",
          "text": [
            "['banana', 'laranja', 'mamão', 'maçã', 'pera', 'uva', 'Limão', 'Laranja', 'Pera', 'Maçã', 'Caju']\n",
            "['Caju', 'Laranja', 'Limão', 'Maçã', 'Pera', 'banana', 'laranja', 'mamão', 'maçã', 'pera', 'uva']\n",
            "['banana', 'Caju', 'Laranja', 'laranja', 'Limão', 'mamão', 'Maçã', 'maçã', 'Pera', 'pera', 'uva']\n"
          ]
        }
      ]
    },
    {
      "cell_type": "code",
      "source": [
        "nova_lista=frutas_prediletas.copy()\n",
        "nova_lista"
      ],
      "metadata": {
        "colab": {
          "base_uri": "https://localhost:8080/"
        },
        "id": "9e_COyHf3K6K",
        "outputId": "43f1139a-7dda-466d-bded-35afbd1983aa"
      },
      "execution_count": null,
      "outputs": [
        {
          "output_type": "execute_result",
          "data": {
            "text/plain": [
              "['banana',\n",
              " 'Caju',\n",
              " 'Laranja',\n",
              " 'laranja',\n",
              " 'Limão',\n",
              " 'mamão',\n",
              " 'Maçã',\n",
              " 'maçã',\n",
              " 'Pera',\n",
              " 'pera',\n",
              " 'uva']"
            ]
          },
          "metadata": {},
          "execution_count": 81
        }
      ]
    },
    {
      "cell_type": "code",
      "source": [
        "nova_lista.count('Laranja' or 'laranja')"
      ],
      "metadata": {
        "colab": {
          "base_uri": "https://localhost:8080/"
        },
        "id": "3pwFviLd4M6n",
        "outputId": "38ac02ac-c900-44ee-c02d-db35344640ca"
      },
      "execution_count": null,
      "outputs": [
        {
          "output_type": "execute_result",
          "data": {
            "text/plain": [
              "1"
            ]
          },
          "metadata": {},
          "execution_count": 82
        }
      ]
    },
    {
      "cell_type": "markdown",
      "source": [
        "Exemplo da aula de 16/08/2023"
      ],
      "metadata": {
        "id": "RFnoHWKefOkS"
      }
    },
    {
      "cell_type": "code",
      "source": [
        "lista_de_filmes=[]"
      ],
      "metadata": {
        "id": "VHqNP09S4aJf"
      },
      "execution_count": null,
      "outputs": []
    },
    {
      "cell_type": "code",
      "source": [
        "lista_de_filmes"
      ],
      "metadata": {
        "colab": {
          "base_uri": "https://localhost:8080/"
        },
        "id": "C-Bl3Aa5U34w",
        "outputId": "106810f6-2bb4-4826-8d62-ef1afdebf493"
      },
      "execution_count": null,
      "outputs": [
        {
          "output_type": "execute_result",
          "data": {
            "text/plain": [
              "[]"
            ]
          },
          "metadata": {},
          "execution_count": 84
        }
      ]
    },
    {
      "cell_type": "code",
      "source": [
        "lista_de_filmes.append('Velozes e Furiosos')"
      ],
      "metadata": {
        "id": "OUerzaPhfVQe"
      },
      "execution_count": null,
      "outputs": []
    },
    {
      "cell_type": "code",
      "source": [
        "lista_de_filmes"
      ],
      "metadata": {
        "colab": {
          "base_uri": "https://localhost:8080/"
        },
        "id": "1RwdzRg0feup",
        "outputId": "b38bafd8-f54a-4277-e82e-2b09aec148d1"
      },
      "execution_count": null,
      "outputs": [
        {
          "output_type": "execute_result",
          "data": {
            "text/plain": [
              "['Velozes e Furiosos']"
            ]
          },
          "metadata": {},
          "execution_count": 86
        }
      ]
    },
    {
      "cell_type": "code",
      "source": [
        "lista_de_filmes.append('Gato de Botas 2')"
      ],
      "metadata": {
        "id": "gd_2_ZSMfgi0"
      },
      "execution_count": null,
      "outputs": []
    },
    {
      "cell_type": "code",
      "source": [
        "lista_de_filmes"
      ],
      "metadata": {
        "colab": {
          "base_uri": "https://localhost:8080/"
        },
        "id": "Ga4F1cqxfooy",
        "outputId": "976b3202-ef55-41d6-9838-3cb28f891c58"
      },
      "execution_count": null,
      "outputs": [
        {
          "output_type": "execute_result",
          "data": {
            "text/plain": [
              "['Velozes e Furiosos', 'Gato de Botas 2']"
            ]
          },
          "metadata": {},
          "execution_count": 88
        }
      ]
    },
    {
      "cell_type": "code",
      "source": [
        "lista_de_filmes.append('A nova onda do imperador')"
      ],
      "metadata": {
        "id": "N74BvbEvfqUK"
      },
      "execution_count": null,
      "outputs": []
    },
    {
      "cell_type": "code",
      "source": [
        "lista_de_filmes"
      ],
      "metadata": {
        "colab": {
          "base_uri": "https://localhost:8080/"
        },
        "id": "RNmQEBSRfxII",
        "outputId": "785d5742-e11c-4bf2-b439-52ff5c4a1f78"
      },
      "execution_count": null,
      "outputs": [
        {
          "output_type": "execute_result",
          "data": {
            "text/plain": [
              "['Velozes e Furiosos', 'Gato de Botas 2', 'A nova onda do imperador']"
            ]
          },
          "metadata": {},
          "execution_count": 90
        }
      ]
    },
    {
      "cell_type": "code",
      "source": [
        "lista_de_filmes.sort()\n",
        "lista_de_filmes"
      ],
      "metadata": {
        "colab": {
          "base_uri": "https://localhost:8080/"
        },
        "id": "UDDKSinBfyou",
        "outputId": "79c9c7a2-f968-4d86-e7a9-f1cdfd6c95eb"
      },
      "execution_count": null,
      "outputs": [
        {
          "output_type": "execute_result",
          "data": {
            "text/plain": [
              "['A nova onda do imperador', 'Gato de Botas 2', 'Velozes e Furiosos']"
            ]
          },
          "metadata": {},
          "execution_count": 91
        }
      ]
    },
    {
      "cell_type": "code",
      "source": [
        "novos_filmes=['Top Gun', 'Rocky']\n",
        "lista_de_filmes.append(novos_filmes)\n",
        "lista_de_filmes"
      ],
      "metadata": {
        "colab": {
          "base_uri": "https://localhost:8080/"
        },
        "id": "onUK4J2zgzxq",
        "outputId": "6475e528-daa0-467d-aab6-a31c6e4e6938"
      },
      "execution_count": null,
      "outputs": [
        {
          "output_type": "execute_result",
          "data": {
            "text/plain": [
              "['A nova onda do imperador',\n",
              " 'Gato de Botas 2',\n",
              " 'Velozes e Furiosos',\n",
              " ['Top Gun', 'Rocky']]"
            ]
          },
          "metadata": {},
          "execution_count": 93
        }
      ]
    },
    {
      "cell_type": "code",
      "source": [
        "lista_de_filmes.pop()"
      ],
      "metadata": {
        "colab": {
          "base_uri": "https://localhost:8080/"
        },
        "id": "5c2m5HJIhCrs",
        "outputId": "7ab67612-b5d0-494d-d5e7-0e13940520e2"
      },
      "execution_count": null,
      "outputs": [
        {
          "output_type": "execute_result",
          "data": {
            "text/plain": [
              "['Top Gun', 'Rocky']"
            ]
          },
          "metadata": {},
          "execution_count": 94
        }
      ]
    },
    {
      "cell_type": "code",
      "source": [
        "lista_de_filmes.extend(novos_filmes)\n",
        "lista_de_filmes"
      ],
      "metadata": {
        "colab": {
          "base_uri": "https://localhost:8080/"
        },
        "id": "cqb-n6yPhWDW",
        "outputId": "71ed7cd0-a42a-4570-db73-540a78e628f6"
      },
      "execution_count": null,
      "outputs": [
        {
          "output_type": "execute_result",
          "data": {
            "text/plain": [
              "['A nova onda do imperador',\n",
              " 'Gato de Botas 2',\n",
              " 'Velozes e Furiosos',\n",
              " 'Top Gun',\n",
              " 'Rocky']"
            ]
          },
          "metadata": {},
          "execution_count": 95
        }
      ]
    },
    {
      "cell_type": "code",
      "source": [
        "# Vamos criar um iterador para receber um certo número de informações\n",
        "pedido_de_comida=[]\n",
        "qtd_pratos=int(input('Quantos tipos de comida você deseja pedir? '))\n",
        "while len(pedido_de_comida)<=qtd_pratos:\n",
        "  nome_do_prato=input('Digite o nome do prato: ')\n",
        "  pedido_de_comida.append(nome_do_prato)\n",
        "\n",
        "print(pedido_de_comida)"
      ],
      "metadata": {
        "colab": {
          "base_uri": "https://localhost:8080/"
        },
        "id": "sJrcMIVQhcGz",
        "outputId": "438edc11-cbea-47db-8e95-e8ccd88319a7"
      },
      "execution_count": null,
      "outputs": [
        {
          "output_type": "stream",
          "name": "stdout",
          "text": [
            "Quantos tipos de comida você deseja pedir? 6\n",
            "Digite o nome do prato: Mclanche feliz\n",
            "Digite o nome do prato: Pizza\n",
            "Digite o nome do prato: Macarronada\n",
            "Digite o nome do prato: Sushi\n",
            "Digite o nome do prato: Feijão\n",
            "Digite o nome do prato: Arroz\n",
            "Digite o nome do prato: Carne\n",
            "['Mclanche feliz', 'Pizza', 'Macarronada', 'Sushi', 'Feijão', 'Arroz', 'Carne']\n"
          ]
        }
      ]
    },
    {
      "cell_type": "markdown",
      "source": [
        "#Condicionais e Loops"
      ],
      "metadata": {
        "id": "sOuwex5Mz7d6"
      }
    },
    {
      "cell_type": "code",
      "source": [
        "#Programa que infere se você está ou não aprovado em disciplinas\n",
        "n1=int(input('Informe sua primeira nota entre 0 e 100: '))\n",
        "n2=int(input('Informe sua segunda nota entre 0 e 100: '))\n",
        "media=(n1+n2)/2 #calcula a media aritmética\n",
        "if media>=70:\n",
        "  print('Aluno aprovado na disciplina com média {}.'.format(media))\n",
        "elif media<40:\n",
        "  print('Aluno reprovado')\n",
        "else:\n",
        "  nota_na_recuperacao=(500-6*media)/4\n",
        "  print('Aluno na recuperação e precisa tirar no mínimo {} para ser aprovado'.format(nota_na_recuperacao))"
      ],
      "metadata": {
        "colab": {
          "base_uri": "https://localhost:8080/"
        },
        "id": "L1_jOhGJz90b",
        "outputId": "f162df60-16ce-4ace-af21-b21dbc3150bc"
      },
      "execution_count": null,
      "outputs": [
        {
          "output_type": "stream",
          "name": "stdout",
          "text": [
            "Informe sua primeira nota entre 0 e 100: 30\n",
            "Informe sua segunda nota entre 0 e 100: 10\n",
            "Aluno reprovado\n"
          ]
        }
      ]
    },
    {
      "cell_type": "code",
      "source": [
        "print('Informe a operação que deseja realizar')\n",
        "print('1 - Calcular a média na disciplina')\n",
        "print('Qualquer outro número encerra o programa')\n",
        "atividade=int(input('Informe qual operação deseja realizar: '))\n",
        "while atividade == 1:\n",
        "  n1=int(input('Informe sua primeira nota entre 0 e 100: '))\n",
        "  n2=int(input('Informe sua segunda nota entre 0 e 100: '))\n",
        "  media=(n1+n2)/2 #calcula a media aritmética\n",
        "  if media>=70:\n",
        "    print('Aluno aprovado na disciplina')\n",
        "  elif media<40:\n",
        "    print('Aluno reprovado')\n",
        "  else:\n",
        "    nota_na_recuperacao=(500-6*media)/4\n",
        "    print('Aluno na recuperação e precisa tirar no mínimo {} para ser aprovado'.format(nota_na_recuperacao))\n",
        "  print('Informe a operação que deseja realizar')\n",
        "  print('1 - Calcular a média na disciplina')\n",
        "  print('Qualquer outro número encerra o programa')\n",
        "  atividade=int(input('Informe qual operação deseja realizar: '))"
      ],
      "metadata": {
        "colab": {
          "base_uri": "https://localhost:8080/"
        },
        "id": "GL4b0tbx2EFO",
        "outputId": "f54ed38f-af81-420b-c8a9-bc114d55fc05"
      },
      "execution_count": null,
      "outputs": [
        {
          "name": "stdout",
          "output_type": "stream",
          "text": [
            "Informe a operação que deseja realizar\n",
            "1 - Calcular a média na disciplina\n",
            "Qualquer outro número encerra o programa\n",
            "Informe qual operação deseja realizar: 1\n",
            "Informe sua primeira nota entre 0 e 100: 30\n",
            "Informe sua segunda nota entre 0 e 100: 50\n",
            "Aluno na recuperação e precisa tirar no mínimo 65.0 para ser aprovado\n",
            "Informe a operação que deseja realizar\n",
            "1 - Calcular a média na disciplina\n",
            "Qualquer outro número encerra o programa\n",
            "Informe qual operação deseja realizar: 1\n",
            "Informe sua primeira nota entre 0 e 100: 100\n",
            "Informe sua segunda nota entre 0 e 100: 45\n",
            "Aluno aprovado na disciplina\n",
            "Informe a operação que deseja realizar\n",
            "1 - Calcular a média na disciplina\n",
            "Qualquer outro número encerra o programa\n",
            "Informe qual operação deseja realizar: 0\n"
          ]
        }
      ]
    },
    {
      "cell_type": "code",
      "source": [
        "for i in range(5):\n",
        "  print('Para i igual a')\n",
        "  print(i)\n",
        "  print('Os valores de j são')\n",
        "  for j in range(5):\n",
        "    print(j)"
      ],
      "metadata": {
        "colab": {
          "base_uri": "https://localhost:8080/"
        },
        "id": "ZbVV60CE6rod",
        "outputId": "fb0c4ebc-d985-4036-afad-1644f3d277d0"
      },
      "execution_count": null,
      "outputs": [
        {
          "output_type": "stream",
          "name": "stdout",
          "text": [
            "Para i igual a\n",
            "0\n",
            "Os valores de j são\n",
            "0\n",
            "1\n",
            "2\n",
            "3\n",
            "4\n",
            "Para i igual a\n",
            "1\n",
            "Os valores de j são\n",
            "0\n",
            "1\n",
            "2\n",
            "3\n",
            "4\n",
            "Para i igual a\n",
            "2\n",
            "Os valores de j são\n",
            "0\n",
            "1\n",
            "2\n",
            "3\n",
            "4\n",
            "Para i igual a\n",
            "3\n",
            "Os valores de j são\n",
            "0\n",
            "1\n",
            "2\n",
            "3\n",
            "4\n",
            "Para i igual a\n",
            "4\n",
            "Os valores de j são\n",
            "0\n",
            "1\n",
            "2\n",
            "3\n",
            "4\n"
          ]
        }
      ]
    },
    {
      "cell_type": "markdown",
      "source": [
        "#Criando funções"
      ],
      "metadata": {
        "id": "47etgz8TA4M4"
      }
    },
    {
      "cell_type": "code",
      "source": [
        "#criando a função soma\n",
        "def soma(a,b):\n",
        "  return a+b\n",
        "\n",
        "#Programa principal\n",
        "a=int(input('Informe o valor de a: '))\n",
        "b=int(input('Informe o valor de b: '))\n",
        "#soma(a,b)\n",
        "print('O valor da soma de {} e {} é {}.'.format(a,b,soma(a,b)))"
      ],
      "metadata": {
        "colab": {
          "base_uri": "https://localhost:8080/"
        },
        "id": "TSczvxpI-JK-",
        "outputId": "c9455d30-482c-4dfc-856b-c0ae13661777"
      },
      "execution_count": null,
      "outputs": [
        {
          "output_type": "stream",
          "name": "stdout",
          "text": [
            "Informe o valor de a: 2\n",
            "Informe o valor de b: 31\n",
            "O valor da soma de 2 e 31 é 33.\n"
          ]
        }
      ]
    },
    {
      "cell_type": "code",
      "source": [
        "def nome_completo(primeiro_nome, segundo_nome):\n",
        "  print('O nome completo do aluno é {} {}'.format(primeiro_nome, segundo_nome))\n",
        "\n",
        "#main\n",
        "\n",
        "primeiro_nome=input('Digite seu primeiro nome: ')\n",
        "segundo_nome=input('Digite seu segundo nome: ')\n",
        "\n",
        "nome_completo(primeiro_nome, segundo_nome)"
      ],
      "metadata": {
        "colab": {
          "base_uri": "https://localhost:8080/"
        },
        "id": "kKzPRLZVLsFF",
        "outputId": "8b21b6b9-cac9-442f-e7fc-3a34ef3e1c4e"
      },
      "execution_count": null,
      "outputs": [
        {
          "output_type": "stream",
          "name": "stdout",
          "text": [
            "Digite seu primeiro nome: Raphael\n",
            "Digite seu segundo nome: Melo\n",
            "O nome completo do aluno é Raphael Melo\n"
          ]
        }
      ]
    },
    {
      "cell_type": "code",
      "source": [
        "x=int(input('informe o valor de x: '))\n",
        "while x in [1,2,3,4]:\n",
        "  print('while válido')\n",
        "  x=int(input('informe o valor de x: '))"
      ],
      "metadata": {
        "colab": {
          "base_uri": "https://localhost:8080/"
        },
        "id": "ulXnLt7zB0S6",
        "outputId": "c33c96b1-749e-4055-d5a9-ef60671be86e"
      },
      "execution_count": null,
      "outputs": [
        {
          "name": "stdout",
          "output_type": "stream",
          "text": [
            "informe o valor de x: 5\n"
          ]
        }
      ]
    },
    {
      "cell_type": "code",
      "source": [
        "c=lambda a,b: a**b\n",
        "print(c(2,3))"
      ],
      "metadata": {
        "colab": {
          "base_uri": "https://localhost:8080/"
        },
        "id": "zy1waEYtDOhp",
        "outputId": "76e49a78-df84-4ee4-860c-56e1d56621b2"
      },
      "execution_count": null,
      "outputs": [
        {
          "output_type": "stream",
          "name": "stdout",
          "text": [
            "8\n"
          ]
        }
      ]
    },
    {
      "cell_type": "code",
      "source": [
        "#Programa da calculadora\n",
        "def soma(c,d):\n",
        "  return c+d\n",
        "\n",
        "def subtracao(c,d):\n",
        "  return c-d\n",
        "\n",
        "def multiplicacao(c,d):\n",
        "  return c*d\n",
        "\n",
        "def divisao(c,d):\n",
        "  if d!=0:\n",
        "    c/d\n",
        "    return c/d\n",
        "  else:\n",
        "    print('Impossível realizar a divisão')\n",
        "\n",
        "def consulta_x():\n",
        "  global c\n",
        "  c=int(input('Informe o valor de x: '))\n",
        "  return c\n",
        "\n",
        "def consulta_y():\n",
        "  global d\n",
        "  d=int(input('Informe o valor de y: '))\n",
        "  return d\n",
        "\n",
        "print('Selecione a operação que deseja realizar')\n",
        "print(\n",
        "    '\\n 1 - Soma \\n',\n",
        "    '2 - Subtração \\n',\n",
        "    '3 - Multiplicação \\n',\n",
        "    '4 - Divisão \\n',\n",
        "    'Digite outro número para encerrar o programa'\n",
        ")\n",
        "operacao=int(input('Informe a operação: '))\n",
        "\n",
        "while operacao in [1,2,3,4]:\n",
        "  if operacao==1:\n",
        "    consulta_x()\n",
        "    consulta_y()\n",
        "    print('A soma de {} e {} é {}.'.format(c,d,soma(c,d)))\n",
        "  if operacao==2:\n",
        "    print('A subtração de {} e {} é {}.'.format(consulta_x(),consulta_y(),subtracao(c,d)))\n",
        "  if operacao==3:\n",
        "    print('A multiplicação de {} e {} é {}.'.format(consulta_x(),consulta_y(),multiplicacao(c,d)))\n",
        "  if operacao==4:\n",
        "    print('A divisão de {} por {} é {}.'.format(consulta_x(),consulta_y(),divisao(c,d)))\n",
        "  print('Selecione a operação que deseja realizar')\n",
        "  print(\n",
        "    '\\n 1 - Soma \\n',\n",
        "    '2 - Subtração \\n',\n",
        "    '3 - Multiplicação \\n',\n",
        "    '4 - Divisão \\n',\n",
        "    'Digite outro número para encerrar o programa'\n",
        "    )\n",
        "  operacao=int(input('Informe a operação: '))\n",
        "else:\n",
        "  print('Programa encerrado...')"
      ],
      "metadata": {
        "id": "XuFDYwkoFpGz",
        "colab": {
          "base_uri": "https://localhost:8080/"
        },
        "outputId": "b80a3ad6-37fb-4951-8841-7bd78dd8a5bc"
      },
      "execution_count": null,
      "outputs": [
        {
          "output_type": "stream",
          "name": "stdout",
          "text": [
            "Selecione a operação que deseja realizar\n",
            "\n",
            " 1 - Soma \n",
            " 2 - Subtração \n",
            " 3 - Multiplicação \n",
            " 4 - Divisão \n",
            " Digite outro número para encerrar o programa\n",
            "Informe a operação: 1\n",
            "Informe o valor de x: 2\n",
            "Informe o valor de y: 3\n",
            "A soma de 2 e 3 é 5.\n",
            "Selecione a operação que deseja realizar\n",
            "\n",
            " 1 - Soma \n",
            " 2 - Subtração \n",
            " 3 - Multiplicação \n",
            " 4 - Divisão \n",
            " Digite outro número para encerrar o programa\n",
            "Informe a operação: 2\n",
            "Informe o valor de x: 10\n",
            "Informe o valor de y: 5\n",
            "A subtração de 10 e 5 é 5.\n",
            "Selecione a operação que deseja realizar\n",
            "\n",
            " 1 - Soma \n",
            " 2 - Subtração \n",
            " 3 - Multiplicação \n",
            " 4 - Divisão \n",
            " Digite outro número para encerrar o programa\n",
            "Informe a operação: 3\n",
            "Informe o valor de x: 10\n",
            "Informe o valor de y: 10\n",
            "A multiplicação de 10 e 10 é 100.\n",
            "Selecione a operação que deseja realizar\n",
            "\n",
            " 1 - Soma \n",
            " 2 - Subtração \n",
            " 3 - Multiplicação \n",
            " 4 - Divisão \n",
            " Digite outro número para encerrar o programa\n",
            "Informe a operação: 4\n",
            "Informe o valor de x: 10\n",
            "Informe o valor de y: 5\n",
            "A divisão de 10 por 5 é 2.0.\n",
            "Selecione a operação que deseja realizar\n",
            "\n",
            " 1 - Soma \n",
            " 2 - Subtração \n",
            " 3 - Multiplicação \n",
            " 4 - Divisão \n",
            " Digite outro número para encerrar o programa\n",
            "Informe a operação: 5\n",
            "Programa encerrado...\n"
          ]
        }
      ]
    },
    {
      "cell_type": "code",
      "source": [
        "#Cofrinho que recebe moedas e que podemos sacar moedas\n",
        "\n",
        "def valor_moeda():\n",
        "  global valor\n",
        "  valor=float(input('Informe o valor da moeda:'))\n",
        "  return valor\n",
        "\n",
        "def adiciona_moeda(valor):\n",
        "  global total\n",
        "  if valor>0:\n",
        "    total=total+valor\n",
        "    print('Você adicionou {} reais ao cofrinho'.format(valor))\n",
        "    print('')\n",
        "  else:\n",
        "    print('Valor precisa ser maior do que zero')\n",
        "  return total\n",
        "\n",
        "def retira_moeda(valor):\n",
        "  global total\n",
        "  if valor<=total:\n",
        "    total=total-valor\n",
        "    print('Você retirou {} reais do cofrinho'.format(valor))\n",
        "    print('')\n",
        "  else:\n",
        "    print('Não é possível retirar todo este dinheiro, pois o cofrinho possui apenas {} reais'.format(total))\n",
        "  return total\n",
        "\n",
        "def valor_no_cofrinho():\n",
        "  print('O cofrinho tem atualmente {} reais'.format(total))\n",
        "  print('')\n",
        "\n",
        "#main\n",
        "\n",
        "total=0 #variável que acumulará o total existente no cofrinho\n",
        "\n",
        "#menu do programa\n",
        "print(\n",
        "    'Este é o programa do seu cofrinho\\n',\n",
        "    'Operações possíveis de realizar:\\n',\n",
        "    '1 - Adicionar moedas ao cofrinho;\\n',\n",
        "    '2 - Retirar moedas do cofrinho;\\n',\n",
        "    '3 - Apresentar o valor total no cofrinho;\\n',\n",
        "    'Informe qualquer outro número para encerrar o programa'\n",
        "    )\n",
        "operacao=int(input('Informe qual operação deseja realizar: '))\n",
        "\n",
        "while operacao in [1,2,3]:\n",
        "  if operacao == 1:\n",
        "    valor_moeda()\n",
        "    adiciona_moeda(valor)\n",
        "  if operacao == 2:\n",
        "    valor_moeda()\n",
        "    retira_moeda(valor)\n",
        "  if operacao == 3:\n",
        "    valor_no_cofrinho()\n",
        "  print(\n",
        "    'Este é o programa do seu cofrinho\\n',\n",
        "    'Operações possíveis de realizar:\\n',\n",
        "    '1 - Adicionar moedas ao cofrinho;\\n',\n",
        "    '2 - Retirar moedas do cofrinho;\\n',\n",
        "    '3 - Apresentar o valor total no cofrinho;\\n',\n",
        "    'Informe qualquer outro número para encerrar o programa'\n",
        "    )\n",
        "  operacao=int(input('Informe qual operação deseja realizar: '))\n",
        "\n",
        "else:\n",
        "  print('Programa encerrado...')\n"
      ],
      "metadata": {
        "id": "dLvZrDuaON6b",
        "colab": {
          "base_uri": "https://localhost:8080/"
        },
        "outputId": "94739513-2b5c-44a4-ccb4-2b7b251afdb2"
      },
      "execution_count": null,
      "outputs": [
        {
          "output_type": "stream",
          "name": "stdout",
          "text": [
            "Este é o programa do seu cofrinho\n",
            " Operações possíveis de realizar:\n",
            " 1 - Adicionar moedas ao cofrinho;\n",
            " 2 - Retirar moedas do cofrinho;\n",
            " 3 - Apresentar o valor total no cofrinho;\n",
            " Informe qualquer outro número para encerrar o programa\n",
            "Informe qual operação deseja realizar: 1\n",
            "Informe o valor que deseja adicionar no cofrinho:-2\n",
            "Valor precisa ser maior do que zero\n",
            "Este é o programa do seu cofrinho\n",
            " Operações possíveis de realizar:\n",
            " 1 - Adicionar moedas ao cofrinho;\n",
            " 2 - Retirar moedas do cofrinho;\n",
            " 3 - Apresentar o valor total no cofrinho;\n",
            " Informe qualquer outro número para encerrar o programa\n",
            "Informe qual operação deseja realizar: 1\n",
            "Informe o valor que deseja adicionar no cofrinho:1\n",
            "Você adicionou 1.0 reais ao cofrinho\n",
            "\n",
            "Este é o programa do seu cofrinho\n",
            " Operações possíveis de realizar:\n",
            " 1 - Adicionar moedas ao cofrinho;\n",
            " 2 - Retirar moedas do cofrinho;\n",
            " 3 - Apresentar o valor total no cofrinho;\n",
            " Informe qualquer outro número para encerrar o programa\n",
            "Informe qual operação deseja realizar: 3\n",
            "O cofrinho tem atualmente 1.0 reais\n",
            "\n",
            "Este é o programa do seu cofrinho\n",
            " Operações possíveis de realizar:\n",
            " 1 - Adicionar moedas ao cofrinho;\n",
            " 2 - Retirar moedas do cofrinho;\n",
            " 3 - Apresentar o valor total no cofrinho;\n",
            " Informe qualquer outro número para encerrar o programa\n",
            "Informe qual operação deseja realizar: 2\n",
            "Informe o valor que deseja adicionar no cofrinho:2\n",
            "Não é possível retirar todo este dinheiro, pois o cofrinho possui apenas 1.0 reais\n",
            "Este é o programa do seu cofrinho\n",
            " Operações possíveis de realizar:\n",
            " 1 - Adicionar moedas ao cofrinho;\n",
            " 2 - Retirar moedas do cofrinho;\n",
            " 3 - Apresentar o valor total no cofrinho;\n",
            " Informe qualquer outro número para encerrar o programa\n",
            "Informe qual operação deseja realizar: 2\n",
            "Informe o valor que deseja adicionar no cofrinho:1\n",
            "Não é possível retirar todo este dinheiro, pois o cofrinho possui apenas 1.0 reais\n",
            "Este é o programa do seu cofrinho\n",
            " Operações possíveis de realizar:\n",
            " 1 - Adicionar moedas ao cofrinho;\n",
            " 2 - Retirar moedas do cofrinho;\n",
            " 3 - Apresentar o valor total no cofrinho;\n",
            " Informe qualquer outro número para encerrar o programa\n",
            "Informe qual operação deseja realizar: 3\n",
            "O cofrinho tem atualmente 1.0 reais\n",
            "\n",
            "Este é o programa do seu cofrinho\n",
            " Operações possíveis de realizar:\n",
            " 1 - Adicionar moedas ao cofrinho;\n",
            " 2 - Retirar moedas do cofrinho;\n",
            " 3 - Apresentar o valor total no cofrinho;\n",
            " Informe qualquer outro número para encerrar o programa\n",
            "Informe qual operação deseja realizar: 4\n",
            "Programa encerrado...\n"
          ]
        }
      ]
    },
    {
      "cell_type": "markdown",
      "source": [
        "#Orientação a objetos"
      ],
      "metadata": {
        "id": "qyibkPVhcSPH"
      }
    },
    {
      "cell_type": "markdown",
      "source": [
        "Criando classes e métodos"
      ],
      "metadata": {
        "id": "NkwPkWO3cYjV"
      }
    },
    {
      "cell_type": "code",
      "source": [
        "class Produto:\n",
        "  def __init__(self, id, nome, preco, qtd):\n",
        "    self.id=id\n",
        "    self.nome=nome\n",
        "    self.preco=preco\n",
        "    self.qtd=qtd\n",
        "\n",
        "  def estoque(self):\n",
        "    total_do_estoque=self.preco*self.qtd\n",
        "    print(f'O estoque possui {self.qtd} unidades de {self.nome} num total de R$ {total_do_estoque}')\n",
        "\n",
        "x1 = Produto('001', 'laranja', 0.99, 2500)\n",
        "x2=Produto('002', 'cebola', 1.50, 10000)\n",
        "lista=[x1,x2]\n",
        "for x in lista:\n",
        "  str(x.estoque())"
      ],
      "metadata": {
        "colab": {
          "base_uri": "https://localhost:8080/"
        },
        "id": "BnWWA2PVcVqG",
        "outputId": "87d1a88b-97a7-4c18-9f58-c97610f8ab0e"
      },
      "execution_count": null,
      "outputs": [
        {
          "output_type": "stream",
          "name": "stdout",
          "text": [
            "O estoque possui 2500 unidades de laranja num total de R$ 2475.0\n",
            "O estoque possui 10000 unidades de cebola num total de R$ 15000.0\n"
          ]
        }
      ]
    },
    {
      "cell_type": "code",
      "source": [
        "#Programa para adicionar pessoas em uma banco de dados\n",
        "class Pessoa:\n",
        "  def __new__(Pessoa, nome,matricula,idade,altura, massa):\n",
        "    instance=super().__new__(Pessoa)\n",
        "    return instance\n",
        "\n",
        "  def __init__(self,nome,matricula,idade,altura, massa):\n",
        "    self.nome=nome\n",
        "    self.matricula=matricula\n",
        "    self.idade=idade\n",
        "    self.altura=altura\n",
        "    self.massa=massa\n",
        "\n",
        "  def info(self):\n",
        "    print(f'{self.nome} está cadastrado, sua matrícula é {self.matricula}. Ele(a) tem {self.idade} anos e mede {self.altura} centímetros e tem {self.massa} kg')\n",
        "\n",
        "\n",
        "print(\n",
        "    'Banco de dados de pessoas',\n",
        "    'Operações disponíveis:\\n',\n",
        "    '1 - Cadastrar pessoa\\n',\n",
        "    '2 - Mostrar pessoas cadastradas\\n',\n",
        "    'Aperte qualquer outro número para encerrar o programa'\n",
        ")\n",
        "operacao=int(input('Informe a operação que deseja realizar: '))\n",
        "lista_de_pessoas=[]\n",
        "\n",
        "while operacao in [1,2]:\n",
        "  if operacao==1:\n",
        "    nome=input('Informe o nome da pessoa que deseja cadastrar: ')\n",
        "    matricula=input('Informe a matrícula da pessoa que está sendo cadastrada: ')\n",
        "    idade=int(input('Qual a idade desta pessoa? '))\n",
        "    altura=float(input('Qual a altura da pessoa em metros? '))\n",
        "    massa=float(input(f'Qual a massa dele(a)? '))\n",
        "    pessoa=Pessoa(nome,matricula,idade,altura,massa)\n",
        "    lista_de_pessoas.append(pessoa)\n",
        "  if operacao==2:\n",
        "    for n in lista_de_pessoas:\n",
        "      str(n.info())\n",
        "  print(\n",
        "    'Banco de dados de pessoas\\n',\n",
        "    'Operações disponíveis:\\n',\n",
        "    '1 - Cadastrar pessoa\\n',\n",
        "    '2 - Mostrar pessoas cadastradas\\n',\n",
        "    'Aperte qualquer outro número para encerrar o programa'\n",
        "  )\n",
        "  operacao=int(input('Informe a operação que deseja realizar: '))\n",
        "else:\n",
        "  print('Programa encerrado...')"
      ],
      "metadata": {
        "colab": {
          "base_uri": "https://localhost:8080/"
        },
        "id": "eFzERAgTUejl",
        "outputId": "85f86a24-c206-4dd6-ef89-cc0b593c06c2"
      },
      "execution_count": null,
      "outputs": [
        {
          "output_type": "stream",
          "name": "stdout",
          "text": [
            "Banco de dados de pessoas Operações disponíveis:\n",
            " 1 - Cadastrar pessoa\n",
            " 2 - Mostrar pessoas cadastradas\n",
            " Aperte qualquer outro número para encerrar o programa\n",
            "Informe a operação que deseja realizar: 1\n",
            "Informe o nome da pessoa que deseja cadastrar: 1\n",
            "Informe a matrícula da pessoa que está sendo cadastrada: 1\n",
            "Qual a idade desta pessoa? 1\n",
            "Qual a altura da pessoa em metros? 1\n",
            "Qual a massa dele(a)? 1\n",
            "Banco de dados de pessoas\n",
            " Operações disponíveis:\n",
            " 1 - Cadastrar pessoa\n",
            " 2 - Mostrar pessoas cadastradas\n",
            " Aperte qualquer outro número para encerrar o programa\n",
            "Informe a operação que deseja realizar: 2\n",
            "1 está cadastrado, sua matrícula é 1. Ele(a) tem 1 anos e mede 1.0 centímetros e tem 1.0 kg\n",
            "Banco de dados de pessoas\n",
            " Operações disponíveis:\n",
            " 1 - Cadastrar pessoa\n",
            " 2 - Mostrar pessoas cadastradas\n",
            " Aperte qualquer outro número para encerrar o programa\n",
            "Informe a operação que deseja realizar: 1\n",
            "Informe o nome da pessoa que deseja cadastrar: 2\n",
            "Informe a matrícula da pessoa que está sendo cadastrada: 2\n",
            "Qual a idade desta pessoa? 2\n",
            "Qual a altura da pessoa em metros? 2\n",
            "Qual a massa dele(a)? 2\n",
            "Banco de dados de pessoas\n",
            " Operações disponíveis:\n",
            " 1 - Cadastrar pessoa\n",
            " 2 - Mostrar pessoas cadastradas\n",
            " Aperte qualquer outro número para encerrar o programa\n",
            "Informe a operação que deseja realizar: 2\n",
            "1 está cadastrado, sua matrícula é 1. Ele(a) tem 1 anos e mede 1.0 centímetros e tem 1.0 kg\n",
            "2 está cadastrado, sua matrícula é 2. Ele(a) tem 2 anos e mede 2.0 centímetros e tem 2.0 kg\n",
            "Banco de dados de pessoas\n",
            " Operações disponíveis:\n",
            " 1 - Cadastrar pessoa\n",
            " 2 - Mostrar pessoas cadastradas\n",
            " Aperte qualquer outro número para encerrar o programa\n",
            "Informe a operação que deseja realizar: 3\n",
            "Programa encerrado...\n"
          ]
        }
      ]
    },
    {
      "cell_type": "markdown",
      "source": [
        "#Dicionários"
      ],
      "metadata": {
        "id": "fQVNIcrsU08O"
      }
    },
    {
      "cell_type": "code",
      "source": [
        "#Criando dicionários\n",
        "#modelo do dicionário baseia-se em nome={chave:valor}\n",
        "sucos={'laranja':6.0, 'ameixa':8.00,'maracujá':7.00}"
      ],
      "metadata": {
        "id": "RtztrZEnU22-"
      },
      "execution_count": null,
      "outputs": []
    },
    {
      "cell_type": "code",
      "source": [
        "print(sucos)"
      ],
      "metadata": {
        "colab": {
          "base_uri": "https://localhost:8080/"
        },
        "id": "IEei0XslVS0l",
        "outputId": "6409c323-cfca-42f0-d2ed-f5c12fdee21b"
      },
      "execution_count": null,
      "outputs": [
        {
          "output_type": "stream",
          "name": "stdout",
          "text": [
            "{'laranja': 6.0, 'ameixa': 8.0, 'maracujá': 7.0}\n"
          ]
        }
      ]
    },
    {
      "cell_type": "code",
      "source": [
        "type(sucos)"
      ],
      "metadata": {
        "colab": {
          "base_uri": "https://localhost:8080/"
        },
        "id": "vsDzwopicVa3",
        "outputId": "610739f0-2022-4a70-9288-f21c83e6e83d"
      },
      "execution_count": null,
      "outputs": [
        {
          "output_type": "execute_result",
          "data": {
            "text/plain": [
              "dict"
            ]
          },
          "metadata": {},
          "execution_count": 3
        }
      ]
    },
    {
      "cell_type": "code",
      "source": [
        "#É possível criar dicionários usando um construtor dict()\n",
        "sobremesas=dict(pudim=15.0, goiabada=4.0, doce_de_leite=5.0)"
      ],
      "metadata": {
        "id": "rCaPM-gZVaFf"
      },
      "execution_count": null,
      "outputs": []
    },
    {
      "cell_type": "code",
      "source": [
        "print(sobremesas)"
      ],
      "metadata": {
        "colab": {
          "base_uri": "https://localhost:8080/"
        },
        "id": "uTq53Hw6V20j",
        "outputId": "76d293a1-8ce6-407a-b479-aac116d33ae9"
      },
      "execution_count": null,
      "outputs": [
        {
          "output_type": "stream",
          "name": "stdout",
          "text": [
            "{'pudim': 15.0, 'goiabada': 4.0, 'doce_de_leite': 5.0}\n"
          ]
        }
      ]
    },
    {
      "cell_type": "code",
      "source": [
        "#Acessando itens do dicionário\n",
        "valor_do_suco_escolhido=sucos['ameixa']\n",
        "valor_do_suco_escolhido"
      ],
      "metadata": {
        "colab": {
          "base_uri": "https://localhost:8080/"
        },
        "id": "IpQK-u95V4aW",
        "outputId": "f6f3cc57-604b-4ce1-ab81-e1e5380dc312"
      },
      "execution_count": null,
      "outputs": [
        {
          "output_type": "execute_result",
          "data": {
            "text/plain": [
              "8.0"
            ]
          },
          "metadata": {},
          "execution_count": 10
        }
      ]
    },
    {
      "cell_type": "code",
      "source": [
        "#método utilizado para realziar consultas quando não sabemos se a chave existe no dicionário\n",
        "valor=sucos.get('carambola')\n",
        "valor"
      ],
      "metadata": {
        "id": "nUofpCJGWVt4"
      },
      "execution_count": null,
      "outputs": []
    },
    {
      "cell_type": "code",
      "source": [
        "#Acessando as chaves dos dicionários\n",
        "sucos.keys()"
      ],
      "metadata": {
        "colab": {
          "base_uri": "https://localhost:8080/"
        },
        "id": "_W0brdktWpMy",
        "outputId": "3d5f6638-2b8b-43d2-8290-341dae7b3934"
      },
      "execution_count": null,
      "outputs": [
        {
          "output_type": "execute_result",
          "data": {
            "text/plain": [
              "dict_keys(['laranja', 'ameixa', 'maracujá'])"
            ]
          },
          "metadata": {},
          "execution_count": 12
        }
      ]
    },
    {
      "cell_type": "code",
      "source": [
        "sucos.values()"
      ],
      "metadata": {
        "colab": {
          "base_uri": "https://localhost:8080/"
        },
        "id": "ib2E8yDWXI7B",
        "outputId": "88b42cff-31e0-43bc-97b0-53b59cd8fb5c"
      },
      "execution_count": null,
      "outputs": [
        {
          "output_type": "execute_result",
          "data": {
            "text/plain": [
              "dict_values([6.0, 8.0, 7.0])"
            ]
          },
          "metadata": {},
          "execution_count": 17
        }
      ]
    },
    {
      "cell_type": "code",
      "source": [
        "sucos.items()"
      ],
      "metadata": {
        "colab": {
          "base_uri": "https://localhost:8080/"
        },
        "id": "f93oSiGrXzoC",
        "outputId": "c872ab43-fa14-450e-ee49-dc148f4b43b3"
      },
      "execution_count": null,
      "outputs": [
        {
          "output_type": "execute_result",
          "data": {
            "text/plain": [
              "dict_items([('laranja', 6.0), ('ameixa', 8.0), ('maracujá', 7.0)])"
            ]
          },
          "metadata": {},
          "execution_count": 18
        }
      ]
    },
    {
      "cell_type": "code",
      "source": [
        "#atualizando um dicionário\n",
        "sucos['laranja']=8.0\n",
        "sucos.items()"
      ],
      "metadata": {
        "colab": {
          "base_uri": "https://localhost:8080/"
        },
        "id": "UdRpK6HGZxLF",
        "outputId": "6cd57937-9e46-45e1-e968-71640ecdbe61"
      },
      "execution_count": null,
      "outputs": [
        {
          "output_type": "execute_result",
          "data": {
            "text/plain": [
              "dict_items([('laranja', 8.0), ('ameixa', 8.0), ('maracujá', 7.0)])"
            ]
          },
          "metadata": {},
          "execution_count": 13
        }
      ]
    },
    {
      "cell_type": "code",
      "source": [
        "sucos.update({'laranja': 6.0}) #outra forma de atualizar um dicionário\n",
        "sucos.items()"
      ],
      "metadata": {
        "colab": {
          "base_uri": "https://localhost:8080/"
        },
        "id": "4wFpFRGza1BM",
        "outputId": "c7aeaafd-9b14-448c-c85a-cb6b090becee"
      },
      "execution_count": null,
      "outputs": [
        {
          "output_type": "execute_result",
          "data": {
            "text/plain": [
              "dict_items([('laranja', 6.0), ('ameixa', 8.0), ('maracujá', 7.0)])"
            ]
          },
          "metadata": {},
          "execution_count": 14
        }
      ]
    },
    {
      "cell_type": "code",
      "source": [
        "sucos['manga']=10.0 #adicionando um item ao dicionário\n",
        "sucos.items()"
      ],
      "metadata": {
        "colab": {
          "base_uri": "https://localhost:8080/"
        },
        "id": "eHvlt2JKalTp",
        "outputId": "a23e68d8-f017-4b7b-f6b5-2ec4916a4249"
      },
      "execution_count": null,
      "outputs": [
        {
          "output_type": "execute_result",
          "data": {
            "text/plain": [
              "dict_items([('laranja', 6.0), ('ameixa', 8.0), ('maracujá', 7.0), ('manga', 10.0)])"
            ]
          },
          "metadata": {},
          "execution_count": 15
        }
      ]
    },
    {
      "cell_type": "code",
      "source": [
        "#deletando itens de um dicionário\n",
        "sobremesas.pop('pudim') #pode utilizar o método .del() também\n",
        "sobremesas"
      ],
      "metadata": {
        "colab": {
          "base_uri": "https://localhost:8080/"
        },
        "id": "1CI6as4LbuP-",
        "outputId": "fd0ebea0-e047-4105-c39e-729aa8fd0b34"
      },
      "execution_count": null,
      "outputs": [
        {
          "output_type": "execute_result",
          "data": {
            "text/plain": [
              "{'goiabada': 4.0, 'doce_de_leite': 5.0}"
            ]
          },
          "metadata": {},
          "execution_count": 29
        }
      ]
    },
    {
      "cell_type": "code",
      "source": [
        "#checando se uma chave está contida no dicionário\n",
        "z='ameixa'\n",
        "if z in sucos:\n",
        "  print(f'Temos suco de {z}')\n",
        "else:\n",
        "  print(f'Infelizmente não temos suco de {z}')"
      ],
      "metadata": {
        "colab": {
          "base_uri": "https://localhost:8080/"
        },
        "id": "HQUjK5YiaPYO",
        "outputId": "76087476-44f6-41b6-d827-75b94385381f"
      },
      "execution_count": null,
      "outputs": [
        {
          "output_type": "stream",
          "name": "stdout",
          "text": [
            "Temos suco de ameixa\n"
          ]
        }
      ]
    },
    {
      "cell_type": "code",
      "source": [
        "#limpando um dicionário\n",
        "sobremesas.clear()\n",
        "sobremesas"
      ],
      "metadata": {
        "colab": {
          "base_uri": "https://localhost:8080/"
        },
        "id": "Sa2brNkJbZdA",
        "outputId": "3cfbd4a2-e7b1-4561-8ef7-c6e7b1bfa08a"
      },
      "execution_count": null,
      "outputs": [
        {
          "output_type": "execute_result",
          "data": {
            "text/plain": [
              "{}"
            ]
          },
          "metadata": {},
          "execution_count": 21
        }
      ]
    },
    {
      "cell_type": "code",
      "source": [
        "#imprimindo os valores do dicionário\n",
        "for x in sucos:\n",
        "  print(sucos[x])"
      ],
      "metadata": {
        "colab": {
          "base_uri": "https://localhost:8080/"
        },
        "id": "VpDP047HcS2Z",
        "outputId": "8158b376-e019-44dd-ce2a-fdfdc7a9f450"
      },
      "execution_count": null,
      "outputs": [
        {
          "output_type": "stream",
          "name": "stdout",
          "text": [
            "6.0\n",
            "8.0\n",
            "7.0\n",
            "10.0\n"
          ]
        }
      ]
    },
    {
      "cell_type": "code",
      "source": [
        "for x in sucos.values():\n",
        "  print(x)"
      ],
      "metadata": {
        "colab": {
          "base_uri": "https://localhost:8080/"
        },
        "id": "m9qSELABcwjr",
        "outputId": "dfba4084-0927-44b2-8d7f-a36f099ef9e0"
      },
      "execution_count": null,
      "outputs": [
        {
          "output_type": "stream",
          "name": "stdout",
          "text": [
            "6.0\n",
            "8.0\n",
            "7.0\n",
            "10.0\n"
          ]
        }
      ]
    },
    {
      "cell_type": "code",
      "source": [
        "for x in sucos:\n",
        "  print(x)"
      ],
      "metadata": {
        "colab": {
          "base_uri": "https://localhost:8080/"
        },
        "id": "8i9HKicBce8M",
        "outputId": "f331d410-6cb0-488b-af34-47b389ef0733"
      },
      "execution_count": null,
      "outputs": [
        {
          "output_type": "stream",
          "name": "stdout",
          "text": [
            "laranja\n",
            "ameixa\n",
            "maracujá\n",
            "manga\n"
          ]
        }
      ]
    },
    {
      "cell_type": "code",
      "source": [
        "for x in sucos.keys():\n",
        "  print(x)"
      ],
      "metadata": {
        "colab": {
          "base_uri": "https://localhost:8080/"
        },
        "id": "4cbTNF19c3IO",
        "outputId": "a69081f2-d7de-4592-c6aa-8eb1b39cd22a"
      },
      "execution_count": null,
      "outputs": [
        {
          "output_type": "stream",
          "name": "stdout",
          "text": [
            "laranja\n",
            "ameixa\n",
            "maracujá\n",
            "manga\n"
          ]
        }
      ]
    },
    {
      "cell_type": "code",
      "source": [
        "for x,y in sucos.items():\n",
        "  print(f'O suco de {x} custa R$ {y}')"
      ],
      "metadata": {
        "colab": {
          "base_uri": "https://localhost:8080/"
        },
        "id": "OpglaS6NcmzQ",
        "outputId": "58d8b4b2-7d1a-4ef2-a69f-9aa5b310e51a"
      },
      "execution_count": null,
      "outputs": [
        {
          "output_type": "stream",
          "name": "stdout",
          "text": [
            "O suco de laranja custa R$ 6.0\n",
            "O suco de ameixa custa R$ 8.0\n",
            "O suco de maracujá custa R$ 7.0\n",
            "O suco de manga custa R$ 10.0\n"
          ]
        }
      ]
    },
    {
      "cell_type": "code",
      "source": [
        "#copiando um dicionário\n",
        "sucos_do_mes=sucos.copy() #também podemos obter esse dicionário sucos_do_mes=dict(sucos)\n",
        "sucos_do_mes"
      ],
      "metadata": {
        "colab": {
          "base_uri": "https://localhost:8080/"
        },
        "id": "sgmZCA6Dc_xD",
        "outputId": "5a2536c2-7edd-4089-80e1-05f5d18a5aee"
      },
      "execution_count": null,
      "outputs": [
        {
          "output_type": "execute_result",
          "data": {
            "text/plain": [
              "{'laranja': 6.0, 'ameixa': 8.0, 'maracujá': 7.0, 'manga': 10.0}"
            ]
          },
          "metadata": {},
          "execution_count": 42
        }
      ]
    },
    {
      "cell_type": "code",
      "source": [
        "sucos_do_mes.pop('laranja')\n",
        "sucos_do_mes"
      ],
      "metadata": {
        "colab": {
          "base_uri": "https://localhost:8080/"
        },
        "id": "EEmLL5AldfXv",
        "outputId": "137ffaaa-65a3-4c3b-c048-58804207d816"
      },
      "execution_count": null,
      "outputs": [
        {
          "output_type": "execute_result",
          "data": {
            "text/plain": [
              "{'ameixa': 8.0, 'maracujá': 7.0, 'manga': 10.0}"
            ]
          },
          "metadata": {},
          "execution_count": 43
        }
      ]
    },
    {
      "cell_type": "code",
      "source": [
        "sucos"
      ],
      "metadata": {
        "colab": {
          "base_uri": "https://localhost:8080/"
        },
        "id": "vycVZB9IdqCy",
        "outputId": "77e4d7db-0659-4610-823d-98215c459a35"
      },
      "execution_count": null,
      "outputs": [
        {
          "output_type": "execute_result",
          "data": {
            "text/plain": [
              "{'laranja': 6.0, 'ameixa': 8.0, 'maracujá': 7.0, 'manga': 10.0}"
            ]
          },
          "metadata": {},
          "execution_count": 44
        }
      ]
    },
    {
      "cell_type": "code",
      "source": [
        "#criando dicionários aninhados\n",
        "cafe={'da_casa': 0.01, 'espresso': 4.00, 'cappucino': 6.00}\n",
        "cardapio={\n",
        "    'cafés':cafe,\n",
        "    'sucos':sucos,\n",
        "    'sobremesas':sobremesas\n",
        "}\n",
        "print(cardapio)"
      ],
      "metadata": {
        "colab": {
          "base_uri": "https://localhost:8080/"
        },
        "id": "aZA4A5SBdyC-",
        "outputId": "4e197eee-a74e-4185-c09c-0f17af6e0ab9"
      },
      "execution_count": null,
      "outputs": [
        {
          "output_type": "stream",
          "name": "stdout",
          "text": [
            "{'cafés': {'da_casa': 0.01, 'espresso': 4.0, 'cappucino': 6.0}, 'sucos': {'laranja': 6.0, 'ameixa': 8.0, 'maracujá': 7.0, 'manga': 10.0}, 'sobremesas': {}}\n"
          ]
        }
      ]
    },
    {
      "cell_type": "code",
      "source": [
        "cardapio.keys()"
      ],
      "metadata": {
        "colab": {
          "base_uri": "https://localhost:8080/"
        },
        "id": "r4101ZSReket",
        "outputId": "2dcc521e-6a68-4315-bb5c-6aaa8ae6574f"
      },
      "execution_count": null,
      "outputs": [
        {
          "output_type": "execute_result",
          "data": {
            "text/plain": [
              "dict_keys(['cafés', 'sucos', 'sobremesas'])"
            ]
          },
          "metadata": {},
          "execution_count": 46
        }
      ]
    },
    {
      "cell_type": "code",
      "source": [
        "#acessando os itens do dicionário aninhado 1ª camada\n",
        "cardapio['cafés']"
      ],
      "metadata": {
        "colab": {
          "base_uri": "https://localhost:8080/"
        },
        "id": "tmZ3NORseqs-",
        "outputId": "e82fc85e-f27c-4f09-9b78-fdac50a74b9a"
      },
      "execution_count": null,
      "outputs": [
        {
          "output_type": "execute_result",
          "data": {
            "text/plain": [
              "{'da_casa': 0.01, 'espresso': 4.0, 'cappucino': 6.0}"
            ]
          },
          "metadata": {},
          "execution_count": 49
        }
      ]
    },
    {
      "cell_type": "code",
      "source": [
        "#acessando os itens do dicionário aninhado 2ª camada\n",
        "cardapio['cafés']['espresso']"
      ],
      "metadata": {
        "colab": {
          "base_uri": "https://localhost:8080/"
        },
        "id": "ymw9ip8ZevoB",
        "outputId": "346d7d08-ba5f-4b0f-dbfc-21c04c87e7b6"
      },
      "execution_count": null,
      "outputs": [
        {
          "output_type": "execute_result",
          "data": {
            "text/plain": [
              "4.0"
            ]
          },
          "metadata": {},
          "execution_count": 50
        }
      ]
    },
    {
      "cell_type": "code",
      "source": [
        "#exemplo\n",
        "arcanine={'hp': 6,'ataque':7, 'defesa':4,'velocidade': 5}\n",
        "ivysaur={'hp': 4,'ataque':4, 'defesa':4,'velocidade': 4}\n",
        "dragonite={'hp': 6,'ataque':8, 'defesa':6,'velocidade': 5}"
      ],
      "metadata": {
        "id": "z8NGQWGte07A"
      },
      "execution_count": null,
      "outputs": []
    },
    {
      "cell_type": "code",
      "source": [
        "pokemons_do_rapha={'arcanine':arcanine,\n",
        "                   'ivysaur':ivysaur,\n",
        "                   'dragonite':dragonite}"
      ],
      "metadata": {
        "id": "Tr4qrMXNjm_u"
      },
      "execution_count": null,
      "outputs": []
    },
    {
      "cell_type": "code",
      "source": [
        "pokemons_do_rapha.get('arcanine')"
      ],
      "metadata": {
        "colab": {
          "base_uri": "https://localhost:8080/"
        },
        "id": "GW21iBI-jxGH",
        "outputId": "299ca14d-84ce-4d81-b5e0-1ef5e3e4c508"
      },
      "execution_count": null,
      "outputs": [
        {
          "output_type": "execute_result",
          "data": {
            "text/plain": [
              "{'hp': 6, 'ataque': 7, 'defesa': 4, 'velocidade': 5}"
            ]
          },
          "metadata": {},
          "execution_count": 27
        }
      ]
    },
    {
      "cell_type": "code",
      "source": [
        "print(pokemon)"
      ],
      "metadata": {
        "colab": {
          "base_uri": "https://localhost:8080/"
        },
        "id": "ZqPP-4LNlE2P",
        "outputId": "c0d1114a-cbea-44c4-9394-3aba3cc2a585"
      },
      "execution_count": null,
      "outputs": [
        {
          "output_type": "stream",
          "name": "stdout",
          "text": [
            "{'Pikachu': {'Leiliane': 'Pikachu', 'atk': 42, 'defes': 30}, 'Squirtle': {'Leiliane': 'Squirtle', 'atk': 30, 'defes': 60}}\n"
          ]
        }
      ]
    },
    {
      "cell_type": "markdown",
      "source": [
        "#Exceções e persistência em arquivos de texto"
      ],
      "metadata": {
        "id": "U1UmJat7XweK"
      }
    },
    {
      "cell_type": "code",
      "source": [
        "#Existem exceções para operações que realizamos no Python\n",
        "a=int(input('Informe um número inteiro para ser dividido: '))\n",
        "b=int(input('Informe um número inteiro para ser o divisor: '))\n",
        "resposta=a/b\n",
        "print(resposta)"
      ],
      "metadata": {
        "colab": {
          "base_uri": "https://localhost:8080/",
          "height": 259
        },
        "id": "SyUWkDtPXyXu",
        "outputId": "ffd940da-811d-454a-bed3-c80c6e6aeb74"
      },
      "execution_count": null,
      "outputs": [
        {
          "name": "stdout",
          "output_type": "stream",
          "text": [
            "Informe um número inteiro para ser dividido: 2\n",
            "Informe um número inteiro para ser o divisor: 0\n"
          ]
        },
        {
          "output_type": "error",
          "ename": "ZeroDivisionError",
          "evalue": "ignored",
          "traceback": [
            "\u001b[0;31m---------------------------------------------------------------------------\u001b[0m",
            "\u001b[0;31mZeroDivisionError\u001b[0m                         Traceback (most recent call last)",
            "\u001b[0;32m<ipython-input-2-a34bd189aaac>\u001b[0m in \u001b[0;36m<cell line: 4>\u001b[0;34m()\u001b[0m\n\u001b[1;32m      2\u001b[0m \u001b[0ma\u001b[0m\u001b[0;34m=\u001b[0m\u001b[0mint\u001b[0m\u001b[0;34m(\u001b[0m\u001b[0minput\u001b[0m\u001b[0;34m(\u001b[0m\u001b[0;34m'Informe um número inteiro para ser dividido: '\u001b[0m\u001b[0;34m)\u001b[0m\u001b[0;34m)\u001b[0m\u001b[0;34m\u001b[0m\u001b[0;34m\u001b[0m\u001b[0m\n\u001b[1;32m      3\u001b[0m \u001b[0mb\u001b[0m\u001b[0;34m=\u001b[0m\u001b[0mint\u001b[0m\u001b[0;34m(\u001b[0m\u001b[0minput\u001b[0m\u001b[0;34m(\u001b[0m\u001b[0;34m'Informe um número inteiro para ser o divisor: '\u001b[0m\u001b[0;34m)\u001b[0m\u001b[0;34m)\u001b[0m\u001b[0;34m\u001b[0m\u001b[0;34m\u001b[0m\u001b[0m\n\u001b[0;32m----> 4\u001b[0;31m \u001b[0mresposta\u001b[0m\u001b[0;34m=\u001b[0m\u001b[0ma\u001b[0m\u001b[0;34m/\u001b[0m\u001b[0mb\u001b[0m\u001b[0;34m\u001b[0m\u001b[0;34m\u001b[0m\u001b[0m\n\u001b[0m\u001b[1;32m      5\u001b[0m \u001b[0mprint\u001b[0m\u001b[0;34m(\u001b[0m\u001b[0mresposta\u001b[0m\u001b[0;34m)\u001b[0m\u001b[0;34m\u001b[0m\u001b[0;34m\u001b[0m\u001b[0m\n",
            "\u001b[0;31mZeroDivisionError\u001b[0m: division by zero"
          ]
        }
      ]
    },
    {
      "cell_type": "code",
      "source": [
        "#resolvendo este problema\n",
        "\n",
        "a=int(input('Informe um número inteiro para ser dividido: '))\n",
        "b=int(input('Informe um número inteiro para ser o divisor: '))\n",
        "try:\n",
        "  resposta=a/b\n",
        "except:\n",
        "  print('Você não pode dividir um número por zero!')\n",
        "else:\n",
        "  print(resposta)"
      ],
      "metadata": {
        "colab": {
          "base_uri": "https://localhost:8080/"
        },
        "id": "PPU64Y1GYhOt",
        "outputId": "f2d97c96-5718-4783-8b43-e63befc7b5a5"
      },
      "execution_count": null,
      "outputs": [
        {
          "output_type": "stream",
          "name": "stdout",
          "text": [
            "Informe um número inteiro para ser dividido: 1\n",
            "Informe um número inteiro para ser o divisor: 0\n",
            "Você não pode dividir um número por zero!\n"
          ]
        }
      ]
    },
    {
      "cell_type": "code",
      "source": [
        "menu=[1,2,3,4]\n",
        "opcao=int(input('Informe qual opção deseja'))\n",
        "while opcao in menu:\n",
        "  print(f'Você selecionou a {opcao} do menu')\n",
        "  opcao=int(input('Informe qual opcao deseja'))\n",
        "else:\n",
        "  print('Você encerrou o programa')"
      ],
      "metadata": {
        "colab": {
          "base_uri": "https://localhost:8080/",
          "height": 259
        },
        "id": "YOnceRwhZall",
        "outputId": "945190c8-9b73-46be-fce8-a3c8a12badd2"
      },
      "execution_count": null,
      "outputs": [
        {
          "name": "stdout",
          "output_type": "stream",
          "text": [
            "Informe qual opção desejaa\n"
          ]
        },
        {
          "output_type": "error",
          "ename": "ValueError",
          "evalue": "ignored",
          "traceback": [
            "\u001b[0;31m---------------------------------------------------------------------------\u001b[0m",
            "\u001b[0;31mValueError\u001b[0m                                Traceback (most recent call last)",
            "\u001b[0;32m<ipython-input-6-6325f430272b>\u001b[0m in \u001b[0;36m<cell line: 2>\u001b[0;34m()\u001b[0m\n\u001b[1;32m      1\u001b[0m \u001b[0mmenu\u001b[0m\u001b[0;34m=\u001b[0m\u001b[0;34m[\u001b[0m\u001b[0;36m1\u001b[0m\u001b[0;34m,\u001b[0m\u001b[0;36m2\u001b[0m\u001b[0;34m,\u001b[0m\u001b[0;36m3\u001b[0m\u001b[0;34m,\u001b[0m\u001b[0;36m4\u001b[0m\u001b[0;34m]\u001b[0m\u001b[0;34m\u001b[0m\u001b[0;34m\u001b[0m\u001b[0m\n\u001b[0;32m----> 2\u001b[0;31m \u001b[0mopcao\u001b[0m\u001b[0;34m=\u001b[0m\u001b[0mint\u001b[0m\u001b[0;34m(\u001b[0m\u001b[0minput\u001b[0m\u001b[0;34m(\u001b[0m\u001b[0;34m'Informe qual opção deseja'\u001b[0m\u001b[0;34m)\u001b[0m\u001b[0;34m)\u001b[0m\u001b[0;34m\u001b[0m\u001b[0;34m\u001b[0m\u001b[0m\n\u001b[0m\u001b[1;32m      3\u001b[0m \u001b[0;32mwhile\u001b[0m \u001b[0mopcao\u001b[0m \u001b[0;32min\u001b[0m \u001b[0mmenu\u001b[0m\u001b[0;34m:\u001b[0m\u001b[0;34m\u001b[0m\u001b[0;34m\u001b[0m\u001b[0m\n\u001b[1;32m      4\u001b[0m   \u001b[0mprint\u001b[0m\u001b[0;34m(\u001b[0m\u001b[0;34mf'Você selecionou a {opcao} do menu'\u001b[0m\u001b[0;34m)\u001b[0m\u001b[0;34m\u001b[0m\u001b[0;34m\u001b[0m\u001b[0m\n\u001b[1;32m      5\u001b[0m   \u001b[0mopcao\u001b[0m\u001b[0;34m=\u001b[0m\u001b[0mint\u001b[0m\u001b[0;34m(\u001b[0m\u001b[0minput\u001b[0m\u001b[0;34m(\u001b[0m\u001b[0;34m'Informe qual opcao deseja'\u001b[0m\u001b[0;34m)\u001b[0m\u001b[0;34m)\u001b[0m\u001b[0;34m\u001b[0m\u001b[0;34m\u001b[0m\u001b[0m\n",
            "\u001b[0;31mValueError\u001b[0m: invalid literal for int() with base 10: 'a'"
          ]
        }
      ]
    },
    {
      "cell_type": "code",
      "source": [
        "menu=[1,2,3,4]\n",
        "try:\n",
        "  opcao=int(input('Informe qual opção deseja: '))\n",
        "except:\n",
        "  print('Você deve informar um número e não uma letra')\n",
        "while opcao in menu:\n",
        "  print(f'Você selecionou a opção {opcao} do menu')\n",
        "  opcao=int(input('Informe qual opcao deseja: '))\n",
        "else:\n",
        "  print('Você encerrou o programa')"
      ],
      "metadata": {
        "colab": {
          "base_uri": "https://localhost:8080/",
          "height": 361
        },
        "id": "bFwfZKORasLh",
        "outputId": "84f95c63-f23d-4896-ae35-0b1879e5f1b3"
      },
      "execution_count": null,
      "outputs": [
        {
          "name": "stdout",
          "output_type": "stream",
          "text": [
            "Informe qual opção deseja: 1\n",
            "Você selecionou a opção 1 do menu\n",
            "Informe qual opcao deseja: 2\n",
            "Você selecionou a opção 2 do menu\n",
            "Informe qual opcao deseja: 4\n",
            "Você selecionou a opção 4 do menu\n",
            "Informe qual opcao deseja: a\n"
          ]
        },
        {
          "output_type": "error",
          "ename": "ValueError",
          "evalue": "ignored",
          "traceback": [
            "\u001b[0;31m---------------------------------------------------------------------------\u001b[0m",
            "\u001b[0;31mValueError\u001b[0m                                Traceback (most recent call last)",
            "\u001b[0;32m<ipython-input-7-85c90c2150c7>\u001b[0m in \u001b[0;36m<cell line: 6>\u001b[0;34m()\u001b[0m\n\u001b[1;32m      6\u001b[0m \u001b[0;32mwhile\u001b[0m \u001b[0mopcao\u001b[0m \u001b[0;32min\u001b[0m \u001b[0mmenu\u001b[0m\u001b[0;34m:\u001b[0m\u001b[0;34m\u001b[0m\u001b[0;34m\u001b[0m\u001b[0m\n\u001b[1;32m      7\u001b[0m   \u001b[0mprint\u001b[0m\u001b[0;34m(\u001b[0m\u001b[0;34mf'Você selecionou a opção {opcao} do menu'\u001b[0m\u001b[0;34m)\u001b[0m\u001b[0;34m\u001b[0m\u001b[0;34m\u001b[0m\u001b[0m\n\u001b[0;32m----> 8\u001b[0;31m   \u001b[0mopcao\u001b[0m\u001b[0;34m=\u001b[0m\u001b[0mint\u001b[0m\u001b[0;34m(\u001b[0m\u001b[0minput\u001b[0m\u001b[0;34m(\u001b[0m\u001b[0;34m'Informe qual opcao deseja: '\u001b[0m\u001b[0;34m)\u001b[0m\u001b[0;34m)\u001b[0m\u001b[0;34m\u001b[0m\u001b[0;34m\u001b[0m\u001b[0m\n\u001b[0m\u001b[1;32m      9\u001b[0m \u001b[0;32melse\u001b[0m\u001b[0;34m:\u001b[0m\u001b[0;34m\u001b[0m\u001b[0;34m\u001b[0m\u001b[0m\n\u001b[1;32m     10\u001b[0m   \u001b[0mprint\u001b[0m\u001b[0;34m(\u001b[0m\u001b[0;34m'Você encerrou o programa'\u001b[0m\u001b[0;34m)\u001b[0m\u001b[0;34m\u001b[0m\u001b[0;34m\u001b[0m\u001b[0m\n",
            "\u001b[0;31mValueError\u001b[0m: invalid literal for int() with base 10: 'a'"
          ]
        }
      ]
    },
    {
      "cell_type": "code",
      "source": [
        "from time import sleep\n",
        "\n",
        "def leiaInt(msg):\n",
        "  while True:\n",
        "    try:\n",
        "      n=int(input(msg))\n",
        "    except(ValueError,TypeError):\n",
        "      print('ERRO: por favor, digite um número inteiro válido.')\n",
        "      continue\n",
        "    except(KeyboardInterrupt):\n",
        "      print('ERRO: usuário preferiu não informar este número.')\n",
        "      return 0\n",
        "    else:\n",
        "      return n\n",
        "\n",
        "def linha(tam=42):\n",
        "  print('-' * tam)\n",
        "\n",
        "def cabecalho(txt):\n",
        "  linha()\n",
        "  print(txt.center(42))\n",
        "  linha()\n",
        "\n",
        "def menu(lista):\n",
        "  cabecalho('MENU PRINCIPAL')\n",
        "  c=1\n",
        "  for item in lista:\n",
        "    print(f'{c} - {item}')\n",
        "    c+=1\n",
        "  print(linha())\n",
        "  opc=leiaInt('Sua opção: ')\n",
        "  return opc\n",
        "\n",
        "def arquivoExiste(nome):\n",
        "  try:\n",
        "    a=open(nome,'rt')\n",
        "    a.close()\n",
        "  except FileNotFoundError:\n",
        "    return False\n",
        "  else:\n",
        "    return True\n",
        "\n",
        "def criarArquivo(nome):\n",
        "  try:\n",
        "    a=open(nome,'wt+')\n",
        "    a.close()\n",
        "  except:\n",
        "    pass#print('Houve um erro na criação do arquivo')\n",
        "  else:\n",
        "    pass#print('Arquivo criado com sucesso')\n",
        "\n",
        "def lerArquivo(nome):\n",
        "  try:\n",
        "    a=open(nome,'rt')\n",
        "  except:\n",
        "    print('Erro ao ler o arquivo')\n",
        "  else:\n",
        "    cabecalho('PESSOAS CADASTRADAS')\n",
        "    for linha in a:\n",
        "      dado=linha.split(';')\n",
        "      dado[1]=dado[1].replace('\\n','')\n",
        "      print(f'{dado[0]:<30}{dado[1]:>3} anos')\n",
        "  finally:\n",
        "    a.close()\n",
        "\n",
        "def cadastrar(arq, nome='Desconhecido', idade=0):\n",
        "  try:\n",
        "    a=open(arq,'at')\n",
        "  except:\n",
        "    print('Houve um erro na abertura do arquivo')\n",
        "  else:\n",
        "    try:\n",
        "      a.write(f'{nome};{idade}\\n')\n",
        "    except:\n",
        "      print('Houve um erro na hora de escrever os dados')\n",
        "    else:\n",
        "      print(f'Novo registro de {nome} adicionado')\n",
        "      a.close()\n",
        "\n",
        "\n",
        "arq='consulta_em_txt.txt'\n",
        "if arquivoExiste(arq):\n",
        "  pass#print('Arquivo encontrado com sucesso')\n",
        "else:\n",
        "  criarArquivo(arq)\n",
        "\n",
        "while True:\n",
        "  resposta=menu(['Ver pessoas cadastradas','Cadastrar pessoas', 'Sair do sistema'])\n",
        "  if resposta == 1:\n",
        "    #opção de listar um conteudo\n",
        "    lerArquivo(arq)\n",
        "  elif resposta == 2:\n",
        "    cabecalho('NOVO CADASTRO')\n",
        "    nome=str(input('Nome: '))\n",
        "    idade=leiaInt('Idade: ')\n",
        "    cadastrar(arq, nome, idade)\n",
        "  elif resposta ==3:\n",
        "    cabecalho('Saindo do sistema')\n",
        "    break\n",
        "  else:\n",
        "    cabecalho('ERRO, digite uma opção válida')\n",
        "  sleep(2)\n"
      ],
      "metadata": {
        "colab": {
          "base_uri": "https://localhost:8080/"
        },
        "id": "enXseE0rd3kx",
        "outputId": "34d0db0d-7008-4975-e074-65a9203617a6"
      },
      "execution_count": null,
      "outputs": [
        {
          "output_type": "stream",
          "name": "stdout",
          "text": [
            "------------------------------------------\n",
            "              MENU PRINCIPAL              \n",
            "------------------------------------------\n",
            "1 - Ver pessoas cadastradas\n",
            "2 - Cadastrar pessoas\n",
            "3 - Sair do sistema\n",
            "------------------------------------------\n",
            "None\n",
            "Sua opção: 1\n",
            "------------------------------------------\n",
            "           PESSOAS CADASTRADAS            \n",
            "------------------------------------------\n",
            "Habner                         17 anos\n",
            "Franky                         17 anos\n",
            "Isa                            16 anos\n",
            "José Eduardo                   17 anos\n",
            "Raphael                        34 anos\n",
            "------------------------------------------\n",
            "              MENU PRINCIPAL              \n",
            "------------------------------------------\n",
            "1 - Ver pessoas cadastradas\n",
            "2 - Cadastrar pessoas\n",
            "3 - Sair do sistema\n",
            "------------------------------------------\n",
            "None\n",
            "Sua opção: 2\n",
            "------------------------------------------\n",
            "              NOVO CADASTRO               \n",
            "------------------------------------------\n",
            "Nome: Leiliane\n",
            "Idade: 18\n",
            "Novo registro de Leiliane adicionado\n",
            "------------------------------------------\n",
            "              MENU PRINCIPAL              \n",
            "------------------------------------------\n",
            "1 - Ver pessoas cadastradas\n",
            "2 - Cadastrar pessoas\n",
            "3 - Sair do sistema\n",
            "------------------------------------------\n",
            "None\n",
            "Sua opção: 1\n",
            "------------------------------------------\n",
            "           PESSOAS CADASTRADAS            \n",
            "------------------------------------------\n",
            "Habner                         17 anos\n",
            "Franky                         17 anos\n",
            "Isa                            16 anos\n",
            "José Eduardo                   17 anos\n",
            "Raphael                        34 anos\n",
            "Leiliane                       18 anos\n",
            "------------------------------------------\n",
            "              MENU PRINCIPAL              \n",
            "------------------------------------------\n",
            "1 - Ver pessoas cadastradas\n",
            "2 - Cadastrar pessoas\n",
            "3 - Sair do sistema\n",
            "------------------------------------------\n",
            "None\n",
            "Sua opção: 3\n",
            "------------------------------------------\n",
            "            Saindo do sistema             \n",
            "------------------------------------------\n"
          ]
        }
      ]
    },
    {
      "cell_type": "code",
      "source": [],
      "metadata": {
        "id": "VQSqtkaIhv2C"
      },
      "execution_count": null,
      "outputs": []
    }
  ]
}